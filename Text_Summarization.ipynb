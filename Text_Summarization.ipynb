{
  "nbformat": 4,
  "nbformat_minor": 0,
  "metadata": {
    "colab": {
      "name": "Text Summarization.ipynb",
      "provenance": [],
      "collapsed_sections": [],
      "authorship_tag": "ABX9TyPhOFFVhp9Ifez3hbiV0tXX",
      "include_colab_link": true
    },
    "kernelspec": {
      "name": "python3",
      "display_name": "Python 3"
    },
    "widgets": {
      "application/vnd.jupyter.widget-state+json": {
        "af8585c43dae46a591ca507415e52f33": {
          "model_module": "@jupyter-widgets/controls",
          "model_name": "HBoxModel",
          "state": {
            "_view_name": "HBoxView",
            "_dom_classes": [],
            "_model_name": "HBoxModel",
            "_view_module": "@jupyter-widgets/controls",
            "_model_module_version": "1.5.0",
            "_view_count": null,
            "_view_module_version": "1.5.0",
            "box_style": "",
            "layout": "IPY_MODEL_f3070421515a44f9af4dc9e765c1ecee",
            "_model_module": "@jupyter-widgets/controls",
            "children": [
              "IPY_MODEL_b4ea1506eb0b4363a1d73f87ed73b224",
              "IPY_MODEL_daf703605a994432a761aa4def6f0eb9"
            ]
          }
        },
        "f3070421515a44f9af4dc9e765c1ecee": {
          "model_module": "@jupyter-widgets/base",
          "model_name": "LayoutModel",
          "state": {
            "_view_name": "LayoutView",
            "grid_template_rows": null,
            "right": null,
            "justify_content": null,
            "_view_module": "@jupyter-widgets/base",
            "overflow": null,
            "_model_module_version": "1.2.0",
            "_view_count": null,
            "flex_flow": null,
            "width": null,
            "min_width": null,
            "border": null,
            "align_items": null,
            "bottom": null,
            "_model_module": "@jupyter-widgets/base",
            "top": null,
            "grid_column": null,
            "overflow_y": null,
            "overflow_x": null,
            "grid_auto_flow": null,
            "grid_area": null,
            "grid_template_columns": null,
            "flex": null,
            "_model_name": "LayoutModel",
            "justify_items": null,
            "grid_row": null,
            "max_height": null,
            "align_content": null,
            "visibility": null,
            "align_self": null,
            "height": null,
            "min_height": null,
            "padding": null,
            "grid_auto_rows": null,
            "grid_gap": null,
            "max_width": null,
            "order": null,
            "_view_module_version": "1.2.0",
            "grid_template_areas": null,
            "object_position": null,
            "object_fit": null,
            "grid_auto_columns": null,
            "margin": null,
            "display": null,
            "left": null
          }
        },
        "b4ea1506eb0b4363a1d73f87ed73b224": {
          "model_module": "@jupyter-widgets/controls",
          "model_name": "FloatProgressModel",
          "state": {
            "_view_name": "ProgressView",
            "style": "IPY_MODEL_df45ab6b4185474b984eba462d9c2eb8",
            "_dom_classes": [],
            "description": "Downloading: 100%",
            "_model_name": "FloatProgressModel",
            "bar_style": "success",
            "max": 434,
            "_view_module": "@jupyter-widgets/controls",
            "_model_module_version": "1.5.0",
            "value": 434,
            "_view_count": null,
            "_view_module_version": "1.5.0",
            "orientation": "horizontal",
            "min": 0,
            "description_tooltip": null,
            "_model_module": "@jupyter-widgets/controls",
            "layout": "IPY_MODEL_bfb371ffa5e6432889259be6bd4b78bc"
          }
        },
        "daf703605a994432a761aa4def6f0eb9": {
          "model_module": "@jupyter-widgets/controls",
          "model_name": "HTMLModel",
          "state": {
            "_view_name": "HTMLView",
            "style": "IPY_MODEL_3622f9ad5e214b139aa55adfb59fbd39",
            "_dom_classes": [],
            "description": "",
            "_model_name": "HTMLModel",
            "placeholder": "​",
            "_view_module": "@jupyter-widgets/controls",
            "_model_module_version": "1.5.0",
            "value": " 434/434 [01:45&lt;00:00, 4.11B/s]",
            "_view_count": null,
            "_view_module_version": "1.5.0",
            "description_tooltip": null,
            "_model_module": "@jupyter-widgets/controls",
            "layout": "IPY_MODEL_2966c770f9254bd59c7016eadabe1378"
          }
        },
        "df45ab6b4185474b984eba462d9c2eb8": {
          "model_module": "@jupyter-widgets/controls",
          "model_name": "ProgressStyleModel",
          "state": {
            "_view_name": "StyleView",
            "_model_name": "ProgressStyleModel",
            "description_width": "initial",
            "_view_module": "@jupyter-widgets/base",
            "_model_module_version": "1.5.0",
            "_view_count": null,
            "_view_module_version": "1.2.0",
            "bar_color": null,
            "_model_module": "@jupyter-widgets/controls"
          }
        },
        "bfb371ffa5e6432889259be6bd4b78bc": {
          "model_module": "@jupyter-widgets/base",
          "model_name": "LayoutModel",
          "state": {
            "_view_name": "LayoutView",
            "grid_template_rows": null,
            "right": null,
            "justify_content": null,
            "_view_module": "@jupyter-widgets/base",
            "overflow": null,
            "_model_module_version": "1.2.0",
            "_view_count": null,
            "flex_flow": null,
            "width": null,
            "min_width": null,
            "border": null,
            "align_items": null,
            "bottom": null,
            "_model_module": "@jupyter-widgets/base",
            "top": null,
            "grid_column": null,
            "overflow_y": null,
            "overflow_x": null,
            "grid_auto_flow": null,
            "grid_area": null,
            "grid_template_columns": null,
            "flex": null,
            "_model_name": "LayoutModel",
            "justify_items": null,
            "grid_row": null,
            "max_height": null,
            "align_content": null,
            "visibility": null,
            "align_self": null,
            "height": null,
            "min_height": null,
            "padding": null,
            "grid_auto_rows": null,
            "grid_gap": null,
            "max_width": null,
            "order": null,
            "_view_module_version": "1.2.0",
            "grid_template_areas": null,
            "object_position": null,
            "object_fit": null,
            "grid_auto_columns": null,
            "margin": null,
            "display": null,
            "left": null
          }
        },
        "3622f9ad5e214b139aa55adfb59fbd39": {
          "model_module": "@jupyter-widgets/controls",
          "model_name": "DescriptionStyleModel",
          "state": {
            "_view_name": "StyleView",
            "_model_name": "DescriptionStyleModel",
            "description_width": "",
            "_view_module": "@jupyter-widgets/base",
            "_model_module_version": "1.5.0",
            "_view_count": null,
            "_view_module_version": "1.2.0",
            "_model_module": "@jupyter-widgets/controls"
          }
        },
        "2966c770f9254bd59c7016eadabe1378": {
          "model_module": "@jupyter-widgets/base",
          "model_name": "LayoutModel",
          "state": {
            "_view_name": "LayoutView",
            "grid_template_rows": null,
            "right": null,
            "justify_content": null,
            "_view_module": "@jupyter-widgets/base",
            "overflow": null,
            "_model_module_version": "1.2.0",
            "_view_count": null,
            "flex_flow": null,
            "width": null,
            "min_width": null,
            "border": null,
            "align_items": null,
            "bottom": null,
            "_model_module": "@jupyter-widgets/base",
            "top": null,
            "grid_column": null,
            "overflow_y": null,
            "overflow_x": null,
            "grid_auto_flow": null,
            "grid_area": null,
            "grid_template_columns": null,
            "flex": null,
            "_model_name": "LayoutModel",
            "justify_items": null,
            "grid_row": null,
            "max_height": null,
            "align_content": null,
            "visibility": null,
            "align_self": null,
            "height": null,
            "min_height": null,
            "padding": null,
            "grid_auto_rows": null,
            "grid_gap": null,
            "max_width": null,
            "order": null,
            "_view_module_version": "1.2.0",
            "grid_template_areas": null,
            "object_position": null,
            "object_fit": null,
            "grid_auto_columns": null,
            "margin": null,
            "display": null,
            "left": null
          }
        },
        "1be26f6eb3fe4f6bb5cf90643c95b789": {
          "model_module": "@jupyter-widgets/controls",
          "model_name": "HBoxModel",
          "state": {
            "_view_name": "HBoxView",
            "_dom_classes": [],
            "_model_name": "HBoxModel",
            "_view_module": "@jupyter-widgets/controls",
            "_model_module_version": "1.5.0",
            "_view_count": null,
            "_view_module_version": "1.5.0",
            "box_style": "",
            "layout": "IPY_MODEL_507f72a4627c4709b37be39642d5439f",
            "_model_module": "@jupyter-widgets/controls",
            "children": [
              "IPY_MODEL_72c50c11bd424a96a918f75bc6a03233",
              "IPY_MODEL_ee69c6b62dcd43fc8104959d040d921f"
            ]
          }
        },
        "507f72a4627c4709b37be39642d5439f": {
          "model_module": "@jupyter-widgets/base",
          "model_name": "LayoutModel",
          "state": {
            "_view_name": "LayoutView",
            "grid_template_rows": null,
            "right": null,
            "justify_content": null,
            "_view_module": "@jupyter-widgets/base",
            "overflow": null,
            "_model_module_version": "1.2.0",
            "_view_count": null,
            "flex_flow": null,
            "width": null,
            "min_width": null,
            "border": null,
            "align_items": null,
            "bottom": null,
            "_model_module": "@jupyter-widgets/base",
            "top": null,
            "grid_column": null,
            "overflow_y": null,
            "overflow_x": null,
            "grid_auto_flow": null,
            "grid_area": null,
            "grid_template_columns": null,
            "flex": null,
            "_model_name": "LayoutModel",
            "justify_items": null,
            "grid_row": null,
            "max_height": null,
            "align_content": null,
            "visibility": null,
            "align_self": null,
            "height": null,
            "min_height": null,
            "padding": null,
            "grid_auto_rows": null,
            "grid_gap": null,
            "max_width": null,
            "order": null,
            "_view_module_version": "1.2.0",
            "grid_template_areas": null,
            "object_position": null,
            "object_fit": null,
            "grid_auto_columns": null,
            "margin": null,
            "display": null,
            "left": null
          }
        },
        "72c50c11bd424a96a918f75bc6a03233": {
          "model_module": "@jupyter-widgets/controls",
          "model_name": "FloatProgressModel",
          "state": {
            "_view_name": "ProgressView",
            "style": "IPY_MODEL_76908396d4ad485f801031398129476e",
            "_dom_classes": [],
            "description": "Downloading: 100%",
            "_model_name": "FloatProgressModel",
            "bar_style": "success",
            "max": 1344997306,
            "_view_module": "@jupyter-widgets/controls",
            "_model_module_version": "1.5.0",
            "value": 1344997306,
            "_view_count": null,
            "_view_module_version": "1.5.0",
            "orientation": "horizontal",
            "min": 0,
            "description_tooltip": null,
            "_model_module": "@jupyter-widgets/controls",
            "layout": "IPY_MODEL_800f1ca5326a4bd2a8659aba5f161177"
          }
        },
        "ee69c6b62dcd43fc8104959d040d921f": {
          "model_module": "@jupyter-widgets/controls",
          "model_name": "HTMLModel",
          "state": {
            "_view_name": "HTMLView",
            "style": "IPY_MODEL_f2b4f5646ed04b5aa17821a708f88bfc",
            "_dom_classes": [],
            "description": "",
            "_model_name": "HTMLModel",
            "placeholder": "​",
            "_view_module": "@jupyter-widgets/controls",
            "_model_module_version": "1.5.0",
            "value": " 1.34G/1.34G [01:39&lt;00:00, 13.6MB/s]",
            "_view_count": null,
            "_view_module_version": "1.5.0",
            "description_tooltip": null,
            "_model_module": "@jupyter-widgets/controls",
            "layout": "IPY_MODEL_7f1435eaf2074058ade90f56069a7379"
          }
        },
        "76908396d4ad485f801031398129476e": {
          "model_module": "@jupyter-widgets/controls",
          "model_name": "ProgressStyleModel",
          "state": {
            "_view_name": "StyleView",
            "_model_name": "ProgressStyleModel",
            "description_width": "initial",
            "_view_module": "@jupyter-widgets/base",
            "_model_module_version": "1.5.0",
            "_view_count": null,
            "_view_module_version": "1.2.0",
            "bar_color": null,
            "_model_module": "@jupyter-widgets/controls"
          }
        },
        "800f1ca5326a4bd2a8659aba5f161177": {
          "model_module": "@jupyter-widgets/base",
          "model_name": "LayoutModel",
          "state": {
            "_view_name": "LayoutView",
            "grid_template_rows": null,
            "right": null,
            "justify_content": null,
            "_view_module": "@jupyter-widgets/base",
            "overflow": null,
            "_model_module_version": "1.2.0",
            "_view_count": null,
            "flex_flow": null,
            "width": null,
            "min_width": null,
            "border": null,
            "align_items": null,
            "bottom": null,
            "_model_module": "@jupyter-widgets/base",
            "top": null,
            "grid_column": null,
            "overflow_y": null,
            "overflow_x": null,
            "grid_auto_flow": null,
            "grid_area": null,
            "grid_template_columns": null,
            "flex": null,
            "_model_name": "LayoutModel",
            "justify_items": null,
            "grid_row": null,
            "max_height": null,
            "align_content": null,
            "visibility": null,
            "align_self": null,
            "height": null,
            "min_height": null,
            "padding": null,
            "grid_auto_rows": null,
            "grid_gap": null,
            "max_width": null,
            "order": null,
            "_view_module_version": "1.2.0",
            "grid_template_areas": null,
            "object_position": null,
            "object_fit": null,
            "grid_auto_columns": null,
            "margin": null,
            "display": null,
            "left": null
          }
        },
        "f2b4f5646ed04b5aa17821a708f88bfc": {
          "model_module": "@jupyter-widgets/controls",
          "model_name": "DescriptionStyleModel",
          "state": {
            "_view_name": "StyleView",
            "_model_name": "DescriptionStyleModel",
            "description_width": "",
            "_view_module": "@jupyter-widgets/base",
            "_model_module_version": "1.5.0",
            "_view_count": null,
            "_view_module_version": "1.2.0",
            "_model_module": "@jupyter-widgets/controls"
          }
        },
        "7f1435eaf2074058ade90f56069a7379": {
          "model_module": "@jupyter-widgets/base",
          "model_name": "LayoutModel",
          "state": {
            "_view_name": "LayoutView",
            "grid_template_rows": null,
            "right": null,
            "justify_content": null,
            "_view_module": "@jupyter-widgets/base",
            "overflow": null,
            "_model_module_version": "1.2.0",
            "_view_count": null,
            "flex_flow": null,
            "width": null,
            "min_width": null,
            "border": null,
            "align_items": null,
            "bottom": null,
            "_model_module": "@jupyter-widgets/base",
            "top": null,
            "grid_column": null,
            "overflow_y": null,
            "overflow_x": null,
            "grid_auto_flow": null,
            "grid_area": null,
            "grid_template_columns": null,
            "flex": null,
            "_model_name": "LayoutModel",
            "justify_items": null,
            "grid_row": null,
            "max_height": null,
            "align_content": null,
            "visibility": null,
            "align_self": null,
            "height": null,
            "min_height": null,
            "padding": null,
            "grid_auto_rows": null,
            "grid_gap": null,
            "max_width": null,
            "order": null,
            "_view_module_version": "1.2.0",
            "grid_template_areas": null,
            "object_position": null,
            "object_fit": null,
            "grid_auto_columns": null,
            "margin": null,
            "display": null,
            "left": null
          }
        },
        "de9f7f8225ea470d8ebc2622aeef09ca": {
          "model_module": "@jupyter-widgets/controls",
          "model_name": "HBoxModel",
          "state": {
            "_view_name": "HBoxView",
            "_dom_classes": [],
            "_model_name": "HBoxModel",
            "_view_module": "@jupyter-widgets/controls",
            "_model_module_version": "1.5.0",
            "_view_count": null,
            "_view_module_version": "1.5.0",
            "box_style": "",
            "layout": "IPY_MODEL_cb3af26d9c1043908e07a99a493abd7b",
            "_model_module": "@jupyter-widgets/controls",
            "children": [
              "IPY_MODEL_e87b12e5a05445288e376e22dc9c76b7",
              "IPY_MODEL_64e3e715e10241909a45f2b10d16737d"
            ]
          }
        },
        "cb3af26d9c1043908e07a99a493abd7b": {
          "model_module": "@jupyter-widgets/base",
          "model_name": "LayoutModel",
          "state": {
            "_view_name": "LayoutView",
            "grid_template_rows": null,
            "right": null,
            "justify_content": null,
            "_view_module": "@jupyter-widgets/base",
            "overflow": null,
            "_model_module_version": "1.2.0",
            "_view_count": null,
            "flex_flow": null,
            "width": null,
            "min_width": null,
            "border": null,
            "align_items": null,
            "bottom": null,
            "_model_module": "@jupyter-widgets/base",
            "top": null,
            "grid_column": null,
            "overflow_y": null,
            "overflow_x": null,
            "grid_auto_flow": null,
            "grid_area": null,
            "grid_template_columns": null,
            "flex": null,
            "_model_name": "LayoutModel",
            "justify_items": null,
            "grid_row": null,
            "max_height": null,
            "align_content": null,
            "visibility": null,
            "align_self": null,
            "height": null,
            "min_height": null,
            "padding": null,
            "grid_auto_rows": null,
            "grid_gap": null,
            "max_width": null,
            "order": null,
            "_view_module_version": "1.2.0",
            "grid_template_areas": null,
            "object_position": null,
            "object_fit": null,
            "grid_auto_columns": null,
            "margin": null,
            "display": null,
            "left": null
          }
        },
        "e87b12e5a05445288e376e22dc9c76b7": {
          "model_module": "@jupyter-widgets/controls",
          "model_name": "FloatProgressModel",
          "state": {
            "_view_name": "ProgressView",
            "style": "IPY_MODEL_62f8757d27b14379b2cc3c61f36aeb7d",
            "_dom_classes": [],
            "description": "Downloading: 100%",
            "_model_name": "FloatProgressModel",
            "bar_style": "success",
            "max": 231508,
            "_view_module": "@jupyter-widgets/controls",
            "_model_module_version": "1.5.0",
            "value": 231508,
            "_view_count": null,
            "_view_module_version": "1.5.0",
            "orientation": "horizontal",
            "min": 0,
            "description_tooltip": null,
            "_model_module": "@jupyter-widgets/controls",
            "layout": "IPY_MODEL_b96d06d491254c2b8872232099e35275"
          }
        },
        "64e3e715e10241909a45f2b10d16737d": {
          "model_module": "@jupyter-widgets/controls",
          "model_name": "HTMLModel",
          "state": {
            "_view_name": "HTMLView",
            "style": "IPY_MODEL_d1651851fba84113a08e3419840defc5",
            "_dom_classes": [],
            "description": "",
            "_model_name": "HTMLModel",
            "placeholder": "​",
            "_view_module": "@jupyter-widgets/controls",
            "_model_module_version": "1.5.0",
            "value": " 232k/232k [00:00&lt;00:00, 696kB/s]",
            "_view_count": null,
            "_view_module_version": "1.5.0",
            "description_tooltip": null,
            "_model_module": "@jupyter-widgets/controls",
            "layout": "IPY_MODEL_0ec2d6b349e04dbcbb1b8f3a748d543c"
          }
        },
        "62f8757d27b14379b2cc3c61f36aeb7d": {
          "model_module": "@jupyter-widgets/controls",
          "model_name": "ProgressStyleModel",
          "state": {
            "_view_name": "StyleView",
            "_model_name": "ProgressStyleModel",
            "description_width": "initial",
            "_view_module": "@jupyter-widgets/base",
            "_model_module_version": "1.5.0",
            "_view_count": null,
            "_view_module_version": "1.2.0",
            "bar_color": null,
            "_model_module": "@jupyter-widgets/controls"
          }
        },
        "b96d06d491254c2b8872232099e35275": {
          "model_module": "@jupyter-widgets/base",
          "model_name": "LayoutModel",
          "state": {
            "_view_name": "LayoutView",
            "grid_template_rows": null,
            "right": null,
            "justify_content": null,
            "_view_module": "@jupyter-widgets/base",
            "overflow": null,
            "_model_module_version": "1.2.0",
            "_view_count": null,
            "flex_flow": null,
            "width": null,
            "min_width": null,
            "border": null,
            "align_items": null,
            "bottom": null,
            "_model_module": "@jupyter-widgets/base",
            "top": null,
            "grid_column": null,
            "overflow_y": null,
            "overflow_x": null,
            "grid_auto_flow": null,
            "grid_area": null,
            "grid_template_columns": null,
            "flex": null,
            "_model_name": "LayoutModel",
            "justify_items": null,
            "grid_row": null,
            "max_height": null,
            "align_content": null,
            "visibility": null,
            "align_self": null,
            "height": null,
            "min_height": null,
            "padding": null,
            "grid_auto_rows": null,
            "grid_gap": null,
            "max_width": null,
            "order": null,
            "_view_module_version": "1.2.0",
            "grid_template_areas": null,
            "object_position": null,
            "object_fit": null,
            "grid_auto_columns": null,
            "margin": null,
            "display": null,
            "left": null
          }
        },
        "d1651851fba84113a08e3419840defc5": {
          "model_module": "@jupyter-widgets/controls",
          "model_name": "DescriptionStyleModel",
          "state": {
            "_view_name": "StyleView",
            "_model_name": "DescriptionStyleModel",
            "description_width": "",
            "_view_module": "@jupyter-widgets/base",
            "_model_module_version": "1.5.0",
            "_view_count": null,
            "_view_module_version": "1.2.0",
            "_model_module": "@jupyter-widgets/controls"
          }
        },
        "0ec2d6b349e04dbcbb1b8f3a748d543c": {
          "model_module": "@jupyter-widgets/base",
          "model_name": "LayoutModel",
          "state": {
            "_view_name": "LayoutView",
            "grid_template_rows": null,
            "right": null,
            "justify_content": null,
            "_view_module": "@jupyter-widgets/base",
            "overflow": null,
            "_model_module_version": "1.2.0",
            "_view_count": null,
            "flex_flow": null,
            "width": null,
            "min_width": null,
            "border": null,
            "align_items": null,
            "bottom": null,
            "_model_module": "@jupyter-widgets/base",
            "top": null,
            "grid_column": null,
            "overflow_y": null,
            "overflow_x": null,
            "grid_auto_flow": null,
            "grid_area": null,
            "grid_template_columns": null,
            "flex": null,
            "_model_name": "LayoutModel",
            "justify_items": null,
            "grid_row": null,
            "max_height": null,
            "align_content": null,
            "visibility": null,
            "align_self": null,
            "height": null,
            "min_height": null,
            "padding": null,
            "grid_auto_rows": null,
            "grid_gap": null,
            "max_width": null,
            "order": null,
            "_view_module_version": "1.2.0",
            "grid_template_areas": null,
            "object_position": null,
            "object_fit": null,
            "grid_auto_columns": null,
            "margin": null,
            "display": null,
            "left": null
          }
        },
        "d12ba57cfa8e468399ede88800693f42": {
          "model_module": "@jupyter-widgets/controls",
          "model_name": "HBoxModel",
          "state": {
            "_view_name": "HBoxView",
            "_dom_classes": [],
            "_model_name": "HBoxModel",
            "_view_module": "@jupyter-widgets/controls",
            "_model_module_version": "1.5.0",
            "_view_count": null,
            "_view_module_version": "1.5.0",
            "box_style": "",
            "layout": "IPY_MODEL_a6bca601a2114bb2ade76b96e8208e75",
            "_model_module": "@jupyter-widgets/controls",
            "children": [
              "IPY_MODEL_9e5856b6c3284359aeedba59ce803049",
              "IPY_MODEL_4d756de357694ff68c47153c5a306bf5"
            ]
          }
        },
        "a6bca601a2114bb2ade76b96e8208e75": {
          "model_module": "@jupyter-widgets/base",
          "model_name": "LayoutModel",
          "state": {
            "_view_name": "LayoutView",
            "grid_template_rows": null,
            "right": null,
            "justify_content": null,
            "_view_module": "@jupyter-widgets/base",
            "overflow": null,
            "_model_module_version": "1.2.0",
            "_view_count": null,
            "flex_flow": null,
            "width": null,
            "min_width": null,
            "border": null,
            "align_items": null,
            "bottom": null,
            "_model_module": "@jupyter-widgets/base",
            "top": null,
            "grid_column": null,
            "overflow_y": null,
            "overflow_x": null,
            "grid_auto_flow": null,
            "grid_area": null,
            "grid_template_columns": null,
            "flex": null,
            "_model_name": "LayoutModel",
            "justify_items": null,
            "grid_row": null,
            "max_height": null,
            "align_content": null,
            "visibility": null,
            "align_self": null,
            "height": null,
            "min_height": null,
            "padding": null,
            "grid_auto_rows": null,
            "grid_gap": null,
            "max_width": null,
            "order": null,
            "_view_module_version": "1.2.0",
            "grid_template_areas": null,
            "object_position": null,
            "object_fit": null,
            "grid_auto_columns": null,
            "margin": null,
            "display": null,
            "left": null
          }
        },
        "9e5856b6c3284359aeedba59ce803049": {
          "model_module": "@jupyter-widgets/controls",
          "model_name": "FloatProgressModel",
          "state": {
            "_view_name": "ProgressView",
            "style": "IPY_MODEL_5c245bbe6ba64f3e869231acdfbf6219",
            "_dom_classes": [],
            "description": "Downloading: 100%",
            "_model_name": "FloatProgressModel",
            "bar_style": "success",
            "max": 442,
            "_view_module": "@jupyter-widgets/controls",
            "_model_module_version": "1.5.0",
            "value": 442,
            "_view_count": null,
            "_view_module_version": "1.5.0",
            "orientation": "horizontal",
            "min": 0,
            "description_tooltip": null,
            "_model_module": "@jupyter-widgets/controls",
            "layout": "IPY_MODEL_64dc962e3d404602b5f833b1a7cff231"
          }
        },
        "4d756de357694ff68c47153c5a306bf5": {
          "model_module": "@jupyter-widgets/controls",
          "model_name": "HTMLModel",
          "state": {
            "_view_name": "HTMLView",
            "style": "IPY_MODEL_03b92b3807214194aceca472c6f4d3a6",
            "_dom_classes": [],
            "description": "",
            "_model_name": "HTMLModel",
            "placeholder": "​",
            "_view_module": "@jupyter-widgets/controls",
            "_model_module_version": "1.5.0",
            "value": " 442/442 [00:16&lt;00:00, 26.4B/s]",
            "_view_count": null,
            "_view_module_version": "1.5.0",
            "description_tooltip": null,
            "_model_module": "@jupyter-widgets/controls",
            "layout": "IPY_MODEL_6dc35b34e9fc4e12916743d788cf7136"
          }
        },
        "5c245bbe6ba64f3e869231acdfbf6219": {
          "model_module": "@jupyter-widgets/controls",
          "model_name": "ProgressStyleModel",
          "state": {
            "_view_name": "StyleView",
            "_model_name": "ProgressStyleModel",
            "description_width": "initial",
            "_view_module": "@jupyter-widgets/base",
            "_model_module_version": "1.5.0",
            "_view_count": null,
            "_view_module_version": "1.2.0",
            "bar_color": null,
            "_model_module": "@jupyter-widgets/controls"
          }
        },
        "64dc962e3d404602b5f833b1a7cff231": {
          "model_module": "@jupyter-widgets/base",
          "model_name": "LayoutModel",
          "state": {
            "_view_name": "LayoutView",
            "grid_template_rows": null,
            "right": null,
            "justify_content": null,
            "_view_module": "@jupyter-widgets/base",
            "overflow": null,
            "_model_module_version": "1.2.0",
            "_view_count": null,
            "flex_flow": null,
            "width": null,
            "min_width": null,
            "border": null,
            "align_items": null,
            "bottom": null,
            "_model_module": "@jupyter-widgets/base",
            "top": null,
            "grid_column": null,
            "overflow_y": null,
            "overflow_x": null,
            "grid_auto_flow": null,
            "grid_area": null,
            "grid_template_columns": null,
            "flex": null,
            "_model_name": "LayoutModel",
            "justify_items": null,
            "grid_row": null,
            "max_height": null,
            "align_content": null,
            "visibility": null,
            "align_self": null,
            "height": null,
            "min_height": null,
            "padding": null,
            "grid_auto_rows": null,
            "grid_gap": null,
            "max_width": null,
            "order": null,
            "_view_module_version": "1.2.0",
            "grid_template_areas": null,
            "object_position": null,
            "object_fit": null,
            "grid_auto_columns": null,
            "margin": null,
            "display": null,
            "left": null
          }
        },
        "03b92b3807214194aceca472c6f4d3a6": {
          "model_module": "@jupyter-widgets/controls",
          "model_name": "DescriptionStyleModel",
          "state": {
            "_view_name": "StyleView",
            "_model_name": "DescriptionStyleModel",
            "description_width": "",
            "_view_module": "@jupyter-widgets/base",
            "_model_module_version": "1.5.0",
            "_view_count": null,
            "_view_module_version": "1.2.0",
            "_model_module": "@jupyter-widgets/controls"
          }
        },
        "6dc35b34e9fc4e12916743d788cf7136": {
          "model_module": "@jupyter-widgets/base",
          "model_name": "LayoutModel",
          "state": {
            "_view_name": "LayoutView",
            "grid_template_rows": null,
            "right": null,
            "justify_content": null,
            "_view_module": "@jupyter-widgets/base",
            "overflow": null,
            "_model_module_version": "1.2.0",
            "_view_count": null,
            "flex_flow": null,
            "width": null,
            "min_width": null,
            "border": null,
            "align_items": null,
            "bottom": null,
            "_model_module": "@jupyter-widgets/base",
            "top": null,
            "grid_column": null,
            "overflow_y": null,
            "overflow_x": null,
            "grid_auto_flow": null,
            "grid_area": null,
            "grid_template_columns": null,
            "flex": null,
            "_model_name": "LayoutModel",
            "justify_items": null,
            "grid_row": null,
            "max_height": null,
            "align_content": null,
            "visibility": null,
            "align_self": null,
            "height": null,
            "min_height": null,
            "padding": null,
            "grid_auto_rows": null,
            "grid_gap": null,
            "max_width": null,
            "order": null,
            "_view_module_version": "1.2.0",
            "grid_template_areas": null,
            "object_position": null,
            "object_fit": null,
            "grid_auto_columns": null,
            "margin": null,
            "display": null,
            "left": null
          }
        },
        "a9981fdea65a4d0f924c342613261945": {
          "model_module": "@jupyter-widgets/controls",
          "model_name": "HBoxModel",
          "state": {
            "_view_name": "HBoxView",
            "_dom_classes": [],
            "_model_name": "HBoxModel",
            "_view_module": "@jupyter-widgets/controls",
            "_model_module_version": "1.5.0",
            "_view_count": null,
            "_view_module_version": "1.5.0",
            "box_style": "",
            "layout": "IPY_MODEL_ef592e676c134d1b8dace5625672d1a0",
            "_model_module": "@jupyter-widgets/controls",
            "children": [
              "IPY_MODEL_50049bc75d3046be82d11d05c75440dd",
              "IPY_MODEL_270dd916f24d4841a67f5c891618f76f"
            ]
          }
        },
        "ef592e676c134d1b8dace5625672d1a0": {
          "model_module": "@jupyter-widgets/base",
          "model_name": "LayoutModel",
          "state": {
            "_view_name": "LayoutView",
            "grid_template_rows": null,
            "right": null,
            "justify_content": null,
            "_view_module": "@jupyter-widgets/base",
            "overflow": null,
            "_model_module_version": "1.2.0",
            "_view_count": null,
            "flex_flow": null,
            "width": null,
            "min_width": null,
            "border": null,
            "align_items": null,
            "bottom": null,
            "_model_module": "@jupyter-widgets/base",
            "top": null,
            "grid_column": null,
            "overflow_y": null,
            "overflow_x": null,
            "grid_auto_flow": null,
            "grid_area": null,
            "grid_template_columns": null,
            "flex": null,
            "_model_name": "LayoutModel",
            "justify_items": null,
            "grid_row": null,
            "max_height": null,
            "align_content": null,
            "visibility": null,
            "align_self": null,
            "height": null,
            "min_height": null,
            "padding": null,
            "grid_auto_rows": null,
            "grid_gap": null,
            "max_width": null,
            "order": null,
            "_view_module_version": "1.2.0",
            "grid_template_areas": null,
            "object_position": null,
            "object_fit": null,
            "grid_auto_columns": null,
            "margin": null,
            "display": null,
            "left": null
          }
        },
        "50049bc75d3046be82d11d05c75440dd": {
          "model_module": "@jupyter-widgets/controls",
          "model_name": "FloatProgressModel",
          "state": {
            "_view_name": "ProgressView",
            "style": "IPY_MODEL_b84b354ac42b42c99dea478a1dd80e3e",
            "_dom_classes": [],
            "description": "Downloading: 100%",
            "_model_name": "FloatProgressModel",
            "bar_style": "success",
            "max": 267967963,
            "_view_module": "@jupyter-widgets/controls",
            "_model_module_version": "1.5.0",
            "value": 267967963,
            "_view_count": null,
            "_view_module_version": "1.5.0",
            "orientation": "horizontal",
            "min": 0,
            "description_tooltip": null,
            "_model_module": "@jupyter-widgets/controls",
            "layout": "IPY_MODEL_5349e133e8844cb0b2bc1440b44d3858"
          }
        },
        "270dd916f24d4841a67f5c891618f76f": {
          "model_module": "@jupyter-widgets/controls",
          "model_name": "HTMLModel",
          "state": {
            "_view_name": "HTMLView",
            "style": "IPY_MODEL_5a26f2fe25294be7aca83f53a5056c8e",
            "_dom_classes": [],
            "description": "",
            "_model_name": "HTMLModel",
            "placeholder": "​",
            "_view_module": "@jupyter-widgets/controls",
            "_model_module_version": "1.5.0",
            "value": " 268M/268M [00:16&lt;00:00, 16.5MB/s]",
            "_view_count": null,
            "_view_module_version": "1.5.0",
            "description_tooltip": null,
            "_model_module": "@jupyter-widgets/controls",
            "layout": "IPY_MODEL_6dc93f85c623475b99b812e453e0a31a"
          }
        },
        "b84b354ac42b42c99dea478a1dd80e3e": {
          "model_module": "@jupyter-widgets/controls",
          "model_name": "ProgressStyleModel",
          "state": {
            "_view_name": "StyleView",
            "_model_name": "ProgressStyleModel",
            "description_width": "initial",
            "_view_module": "@jupyter-widgets/base",
            "_model_module_version": "1.5.0",
            "_view_count": null,
            "_view_module_version": "1.2.0",
            "bar_color": null,
            "_model_module": "@jupyter-widgets/controls"
          }
        },
        "5349e133e8844cb0b2bc1440b44d3858": {
          "model_module": "@jupyter-widgets/base",
          "model_name": "LayoutModel",
          "state": {
            "_view_name": "LayoutView",
            "grid_template_rows": null,
            "right": null,
            "justify_content": null,
            "_view_module": "@jupyter-widgets/base",
            "overflow": null,
            "_model_module_version": "1.2.0",
            "_view_count": null,
            "flex_flow": null,
            "width": null,
            "min_width": null,
            "border": null,
            "align_items": null,
            "bottom": null,
            "_model_module": "@jupyter-widgets/base",
            "top": null,
            "grid_column": null,
            "overflow_y": null,
            "overflow_x": null,
            "grid_auto_flow": null,
            "grid_area": null,
            "grid_template_columns": null,
            "flex": null,
            "_model_name": "LayoutModel",
            "justify_items": null,
            "grid_row": null,
            "max_height": null,
            "align_content": null,
            "visibility": null,
            "align_self": null,
            "height": null,
            "min_height": null,
            "padding": null,
            "grid_auto_rows": null,
            "grid_gap": null,
            "max_width": null,
            "order": null,
            "_view_module_version": "1.2.0",
            "grid_template_areas": null,
            "object_position": null,
            "object_fit": null,
            "grid_auto_columns": null,
            "margin": null,
            "display": null,
            "left": null
          }
        },
        "5a26f2fe25294be7aca83f53a5056c8e": {
          "model_module": "@jupyter-widgets/controls",
          "model_name": "DescriptionStyleModel",
          "state": {
            "_view_name": "StyleView",
            "_model_name": "DescriptionStyleModel",
            "description_width": "",
            "_view_module": "@jupyter-widgets/base",
            "_model_module_version": "1.5.0",
            "_view_count": null,
            "_view_module_version": "1.2.0",
            "_model_module": "@jupyter-widgets/controls"
          }
        },
        "6dc93f85c623475b99b812e453e0a31a": {
          "model_module": "@jupyter-widgets/base",
          "model_name": "LayoutModel",
          "state": {
            "_view_name": "LayoutView",
            "grid_template_rows": null,
            "right": null,
            "justify_content": null,
            "_view_module": "@jupyter-widgets/base",
            "overflow": null,
            "_model_module_version": "1.2.0",
            "_view_count": null,
            "flex_flow": null,
            "width": null,
            "min_width": null,
            "border": null,
            "align_items": null,
            "bottom": null,
            "_model_module": "@jupyter-widgets/base",
            "top": null,
            "grid_column": null,
            "overflow_y": null,
            "overflow_x": null,
            "grid_auto_flow": null,
            "grid_area": null,
            "grid_template_columns": null,
            "flex": null,
            "_model_name": "LayoutModel",
            "justify_items": null,
            "grid_row": null,
            "max_height": null,
            "align_content": null,
            "visibility": null,
            "align_self": null,
            "height": null,
            "min_height": null,
            "padding": null,
            "grid_auto_rows": null,
            "grid_gap": null,
            "max_width": null,
            "order": null,
            "_view_module_version": "1.2.0",
            "grid_template_areas": null,
            "object_position": null,
            "object_fit": null,
            "grid_auto_columns": null,
            "margin": null,
            "display": null,
            "left": null
          }
        },
        "85ce0b28a2934d2f93730a010cb88806": {
          "model_module": "@jupyter-widgets/controls",
          "model_name": "HBoxModel",
          "state": {
            "_view_name": "HBoxView",
            "_dom_classes": [],
            "_model_name": "HBoxModel",
            "_view_module": "@jupyter-widgets/controls",
            "_model_module_version": "1.5.0",
            "_view_count": null,
            "_view_module_version": "1.5.0",
            "box_style": "",
            "layout": "IPY_MODEL_34757e5d3b204ff0883bde4f8e5a89d4",
            "_model_module": "@jupyter-widgets/controls",
            "children": [
              "IPY_MODEL_297147e7d1ef4cd1b410aea6b58bb902",
              "IPY_MODEL_b3fc0dd370434ebe8534bebcba47bba9"
            ]
          }
        },
        "34757e5d3b204ff0883bde4f8e5a89d4": {
          "model_module": "@jupyter-widgets/base",
          "model_name": "LayoutModel",
          "state": {
            "_view_name": "LayoutView",
            "grid_template_rows": null,
            "right": null,
            "justify_content": null,
            "_view_module": "@jupyter-widgets/base",
            "overflow": null,
            "_model_module_version": "1.2.0",
            "_view_count": null,
            "flex_flow": null,
            "width": null,
            "min_width": null,
            "border": null,
            "align_items": null,
            "bottom": null,
            "_model_module": "@jupyter-widgets/base",
            "top": null,
            "grid_column": null,
            "overflow_y": null,
            "overflow_x": null,
            "grid_auto_flow": null,
            "grid_area": null,
            "grid_template_columns": null,
            "flex": null,
            "_model_name": "LayoutModel",
            "justify_items": null,
            "grid_row": null,
            "max_height": null,
            "align_content": null,
            "visibility": null,
            "align_self": null,
            "height": null,
            "min_height": null,
            "padding": null,
            "grid_auto_rows": null,
            "grid_gap": null,
            "max_width": null,
            "order": null,
            "_view_module_version": "1.2.0",
            "grid_template_areas": null,
            "object_position": null,
            "object_fit": null,
            "grid_auto_columns": null,
            "margin": null,
            "display": null,
            "left": null
          }
        },
        "297147e7d1ef4cd1b410aea6b58bb902": {
          "model_module": "@jupyter-widgets/controls",
          "model_name": "FloatProgressModel",
          "state": {
            "_view_name": "ProgressView",
            "style": "IPY_MODEL_b720409717f44fc494225d2067070cee",
            "_dom_classes": [],
            "description": "Downloading: 100%",
            "_model_name": "FloatProgressModel",
            "bar_style": "success",
            "max": 231508,
            "_view_module": "@jupyter-widgets/controls",
            "_model_module_version": "1.5.0",
            "value": 231508,
            "_view_count": null,
            "_view_module_version": "1.5.0",
            "orientation": "horizontal",
            "min": 0,
            "description_tooltip": null,
            "_model_module": "@jupyter-widgets/controls",
            "layout": "IPY_MODEL_a93ed566343549139bceb0cea783daa2"
          }
        },
        "b3fc0dd370434ebe8534bebcba47bba9": {
          "model_module": "@jupyter-widgets/controls",
          "model_name": "HTMLModel",
          "state": {
            "_view_name": "HTMLView",
            "style": "IPY_MODEL_20fcffab8676459b96c30fd549225f68",
            "_dom_classes": [],
            "description": "",
            "_model_name": "HTMLModel",
            "placeholder": "​",
            "_view_module": "@jupyter-widgets/controls",
            "_model_module_version": "1.5.0",
            "value": " 232k/232k [00:00&lt;00:00, 870kB/s]",
            "_view_count": null,
            "_view_module_version": "1.5.0",
            "description_tooltip": null,
            "_model_module": "@jupyter-widgets/controls",
            "layout": "IPY_MODEL_21b8c56380874d16b8cd636e301f027b"
          }
        },
        "b720409717f44fc494225d2067070cee": {
          "model_module": "@jupyter-widgets/controls",
          "model_name": "ProgressStyleModel",
          "state": {
            "_view_name": "StyleView",
            "_model_name": "ProgressStyleModel",
            "description_width": "initial",
            "_view_module": "@jupyter-widgets/base",
            "_model_module_version": "1.5.0",
            "_view_count": null,
            "_view_module_version": "1.2.0",
            "bar_color": null,
            "_model_module": "@jupyter-widgets/controls"
          }
        },
        "a93ed566343549139bceb0cea783daa2": {
          "model_module": "@jupyter-widgets/base",
          "model_name": "LayoutModel",
          "state": {
            "_view_name": "LayoutView",
            "grid_template_rows": null,
            "right": null,
            "justify_content": null,
            "_view_module": "@jupyter-widgets/base",
            "overflow": null,
            "_model_module_version": "1.2.0",
            "_view_count": null,
            "flex_flow": null,
            "width": null,
            "min_width": null,
            "border": null,
            "align_items": null,
            "bottom": null,
            "_model_module": "@jupyter-widgets/base",
            "top": null,
            "grid_column": null,
            "overflow_y": null,
            "overflow_x": null,
            "grid_auto_flow": null,
            "grid_area": null,
            "grid_template_columns": null,
            "flex": null,
            "_model_name": "LayoutModel",
            "justify_items": null,
            "grid_row": null,
            "max_height": null,
            "align_content": null,
            "visibility": null,
            "align_self": null,
            "height": null,
            "min_height": null,
            "padding": null,
            "grid_auto_rows": null,
            "grid_gap": null,
            "max_width": null,
            "order": null,
            "_view_module_version": "1.2.0",
            "grid_template_areas": null,
            "object_position": null,
            "object_fit": null,
            "grid_auto_columns": null,
            "margin": null,
            "display": null,
            "left": null
          }
        },
        "20fcffab8676459b96c30fd549225f68": {
          "model_module": "@jupyter-widgets/controls",
          "model_name": "DescriptionStyleModel",
          "state": {
            "_view_name": "StyleView",
            "_model_name": "DescriptionStyleModel",
            "description_width": "",
            "_view_module": "@jupyter-widgets/base",
            "_model_module_version": "1.5.0",
            "_view_count": null,
            "_view_module_version": "1.2.0",
            "_model_module": "@jupyter-widgets/controls"
          }
        },
        "21b8c56380874d16b8cd636e301f027b": {
          "model_module": "@jupyter-widgets/base",
          "model_name": "LayoutModel",
          "state": {
            "_view_name": "LayoutView",
            "grid_template_rows": null,
            "right": null,
            "justify_content": null,
            "_view_module": "@jupyter-widgets/base",
            "overflow": null,
            "_model_module_version": "1.2.0",
            "_view_count": null,
            "flex_flow": null,
            "width": null,
            "min_width": null,
            "border": null,
            "align_items": null,
            "bottom": null,
            "_model_module": "@jupyter-widgets/base",
            "top": null,
            "grid_column": null,
            "overflow_y": null,
            "overflow_x": null,
            "grid_auto_flow": null,
            "grid_area": null,
            "grid_template_columns": null,
            "flex": null,
            "_model_name": "LayoutModel",
            "justify_items": null,
            "grid_row": null,
            "max_height": null,
            "align_content": null,
            "visibility": null,
            "align_self": null,
            "height": null,
            "min_height": null,
            "padding": null,
            "grid_auto_rows": null,
            "grid_gap": null,
            "max_width": null,
            "order": null,
            "_view_module_version": "1.2.0",
            "grid_template_areas": null,
            "object_position": null,
            "object_fit": null,
            "grid_auto_columns": null,
            "margin": null,
            "display": null,
            "left": null
          }
        }
      }
    }
  },
  "cells": [
    {
      "cell_type": "markdown",
      "metadata": {
        "id": "view-in-github",
        "colab_type": "text"
      },
      "source": [
        "<a href=\"https://colab.research.google.com/github/Degananda264/Text-Summarization/blob/master/Text_Summarization.ipynb\" target=\"_parent\"><img src=\"https://colab.research.google.com/assets/colab-badge.svg\" alt=\"Open In Colab\"/></a>"
      ]
    },
    {
      "cell_type": "code",
      "metadata": {
        "id": "k_PqpDoTGOm3",
        "colab_type": "code",
        "colab": {
          "base_uri": "https://localhost:8080/",
          "height": 102
        },
        "outputId": "79387fb0-9e67-4d65-e40f-1fc17f1c1e81"
      },
      "source": [
        "import nltk\n",
        "nltk.download('punkt')\n",
        "nltk.download('stopwords')"
      ],
      "execution_count": 1,
      "outputs": [
        {
          "output_type": "stream",
          "text": [
            "[nltk_data] Downloading package punkt to /root/nltk_data...\n",
            "[nltk_data]   Unzipping tokenizers/punkt.zip.\n",
            "[nltk_data] Downloading package stopwords to /root/nltk_data...\n",
            "[nltk_data]   Unzipping corpora/stopwords.zip.\n"
          ],
          "name": "stdout"
        },
        {
          "output_type": "execute_result",
          "data": {
            "text/plain": [
              "True"
            ]
          },
          "metadata": {
            "tags": []
          },
          "execution_count": 1
        }
      ]
    },
    {
      "cell_type": "code",
      "metadata": {
        "id": "fniB4X2BGXg5",
        "colab_type": "code",
        "colab": {}
      },
      "source": [
        "DOCUMENT = \"\"\"\n",
        "The Elder Scrolls V: Skyrim is an action role-playing video game developed by Bethesda Game Studios \n",
        "and published by Bethesda Softworks. It is the fifth main installment in The Elder Scrolls series, \n",
        "following The Elder Scrolls IV: Oblivion.\n",
        "The game's main story revolves around the player character's quest to defeat Alduin the World-Eater, \n",
        "a dragon who is prophesied to destroy the world. The game is set 200 years after the events of Oblivion \n",
        "and takes place in the fictional province of Skyrim. Over the course of the game, the player completes \n",
        "quests and develops the character by improving skills. The game continues the open-world tradition of \n",
        "its predecessors by allowing the player to travel anywhere in the game world at any time, and to ignore \n",
        "or postpone the main storyline indefinitely.\n",
        "The team opted for a unique and more diverse open world than Oblivion's Imperial Province of Cyrodiil, \n",
        "which game director and executive producer Todd Howard considered less interesting by comparison. \n",
        "The game was released to critical acclaim, with reviewers particularly mentioning the character advancement \n",
        "and setting, and is considered to be one of the greatest video games of all time.\n",
        "\n",
        "\n",
        "The Elder Scrolls V: Skyrim is an action role-playing game, playable from either a first or \n",
        "third-person perspective. The player may freely roam over the land of Skyrim which is an open world \n",
        "environment consisting of wilderness expanses, dungeons, cities, towns, fortresses, and villages. \n",
        "Players may navigate the game world more quickly by riding horses or by utilizing a fast-travel system \n",
        "which allows them to warp to previously discovered locations. The game's main quest can be completed or \n",
        "ignored at the player's preference after the first stage of the quest is finished. However, some quests \n",
        "rely on the main storyline being at least partially completed. Non-player characters (NPCs) populate the \n",
        "world and can be interacted with in a number of ways: the player may engage them in conversation, \n",
        "marry an eligible NPC, kill them or engage in a nonlethal \"brawl\". The player may \n",
        "choose to join factions which are organized groups of NPCs — for example, the Dark Brotherhood, a band \n",
        "of assassins. Each of the factions has an associated quest path to progress through. Each city and town \n",
        "in the game world has jobs that the player can engage in, such as farming.\n",
        "\n",
        "Players have the option to develop their character. At the beginning of the game, players create \n",
        "their character by selecting their sex and choosing between one of several races including humans, \n",
        "orcs, elves, and anthropomorphic cat or lizard-like creatures and then customizing their character's \n",
        "appearance. Over the course of the game, players improve their character's skills which are numerical \n",
        "representations of their ability in certain areas. There are eighteen skills divided evenly among the \n",
        "three schools of combat, magic, and stealth. When players have trained skills enough to meet the \n",
        "required experience, their character levels up. Health is depleted primarily when the player \n",
        "takes damage and the loss of all health results in death. Magicka is depleted by the use of spells, \n",
        "certain poisons and by being struck by lightning-based attacks. Stamina determines the player's \n",
        "effectiveness in combat and is depleted by sprinting, performing heavy \"power attacks\" \n",
        "and being struck by frost-based attacks. Skyrim is the first entry in The Elder Scrolls to \n",
        "include dragons in the game's wilderness. Like other creatures, dragons are generated randomly in \n",
        "the world and will engage in combat with NPCs, creatures and the player. Some dragons may attack \n",
        "cities and towns when in their proximity. The player character can absorb the souls of dragons \n",
        "in order to use powerful spells called \"dragon shouts\" or \"Thu'um\". A regeneration \n",
        "period limits the player's use of shouts in gameplay.\n",
        "\n",
        "Skyrim is set around 200 years after the events of The Elder Scrolls IV: Oblivion, although it is \n",
        "not a direct sequel. The game takes place in Skyrim, a province of the Empire on the continent of \n",
        "Tamriel, amid a civil war between two factions: the Stormcloaks, led by Ulfric Stormcloak, and the \n",
        "Imperial Legion, led by General Tullius. The player character is a Dragonborn, a mortal born with \n",
        "the soul and power of a dragon. Alduin, a large black dragon who returns to the land after being \n",
        "lost in time, serves as the game's primary antagonist. Alduin is the first dragon created by Akatosh, \n",
        "one of the series' gods, and is prophesied to destroy and consume the world.\n",
        "\"\"\"\n"
      ],
      "execution_count": 2,
      "outputs": []
    },
    {
      "cell_type": "code",
      "metadata": {
        "id": "B0B0Gm91GkPH",
        "colab_type": "code",
        "colab": {}
      },
      "source": [
        "import re\n",
        "\n",
        "DOCUMENT = re.sub(r'\\n|\\r', ' ', DOCUMENT)\n",
        "DOCUMENT = re.sub(r' +', ' ', DOCUMENT)\n",
        "DOCUMENT = DOCUMENT.strip()"
      ],
      "execution_count": 3,
      "outputs": []
    },
    {
      "cell_type": "markdown",
      "metadata": {
        "id": "8JmZP78-GuFm",
        "colab_type": "text"
      },
      "source": [
        "**Summarization with Gensim**"
      ]
    },
    {
      "cell_type": "code",
      "metadata": {
        "id": "31ySdbv-GrST",
        "colab_type": "code",
        "colab": {
          "base_uri": "https://localhost:8080/",
          "height": 156
        },
        "outputId": "24c44e5d-8bd6-4cbc-95b4-fd777a8d7c6a"
      },
      "source": [
        "from gensim.summarization import summarize\n",
        "print(summarize(DOCUMENT,ratio=0.2,split=False))"
      ],
      "execution_count": 5,
      "outputs": [
        {
          "output_type": "stream",
          "text": [
            "The game's main story revolves around the player character's quest to defeat Alduin the World-Eater, a dragon who is prophesied to destroy the world.\n",
            "Over the course of the game, the player completes quests and develops the character by improving skills.\n",
            "The game continues the open-world tradition of its predecessors by allowing the player to travel anywhere in the game world at any time, and to ignore or postpone the main storyline indefinitely.\n",
            "The player may freely roam over the land of Skyrim which is an open world environment consisting of wilderness expanses, dungeons, cities, towns, fortresses, and villages.\n",
            "Each city and town in the game world has jobs that the player can engage in, such as farming.\n",
            "Over the course of the game, players improve their character's skills which are numerical representations of their ability in certain areas.\n",
            "Like other creatures, dragons are generated randomly in the world and will engage in combat with NPCs, creatures and the player.\n"
          ],
          "name": "stdout"
        }
      ]
    },
    {
      "cell_type": "code",
      "metadata": {
        "id": "i9HkUUXtHD_x",
        "colab_type": "code",
        "colab": {
          "base_uri": "https://localhost:8080/",
          "height": 88
        },
        "outputId": "edf8db1e-2696-4220-d433-f36e52699ac0"
      },
      "source": [
        "print(summarize(DOCUMENT, word_count=75, split=False))"
      ],
      "execution_count": 6,
      "outputs": [
        {
          "output_type": "stream",
          "text": [
            "The game's main story revolves around the player character's quest to defeat Alduin the World-Eater, a dragon who is prophesied to destroy the world.\n",
            "Over the course of the game, the player completes quests and develops the character by improving skills.\n",
            "The player may freely roam over the land of Skyrim which is an open world environment consisting of wilderness expanses, dungeons, cities, towns, fortresses, and villages.\n"
          ],
          "name": "stdout"
        }
      ]
    },
    {
      "cell_type": "markdown",
      "metadata": {
        "id": "LB_U7kqOKfzp",
        "colab_type": "text"
      },
      "source": [
        "**Xtraction Summarization from TextRank**"
      ]
    },
    {
      "cell_type": "code",
      "metadata": {
        "id": "0qh2zbw3HdWR",
        "colab_type": "code",
        "colab": {
          "base_uri": "https://localhost:8080/",
          "height": 34
        },
        "outputId": "1218a3f3-f501-41f5-cfe1-9211d5bff16b"
      },
      "source": [
        "sentences = nltk.sent_tokenize(DOCUMENT)\n",
        "len(sentences)"
      ],
      "execution_count": 7,
      "outputs": [
        {
          "output_type": "execute_result",
          "data": {
            "text/plain": [
              "35"
            ]
          },
          "metadata": {
            "tags": []
          },
          "execution_count": 7
        }
      ]
    },
    {
      "cell_type": "markdown",
      "metadata": {
        "id": "x-maQXaLHwfe",
        "colab_type": "text"
      },
      "source": [
        "**Basic Text pre-processing**"
      ]
    },
    {
      "cell_type": "code",
      "metadata": {
        "id": "kVtEhbLbHgLZ",
        "colab_type": "code",
        "colab": {
          "base_uri": "https://localhost:8080/",
          "height": 105
        },
        "outputId": "c3dd8fd9-ad61-496f-b9f0-d0c202fa28b6"
      },
      "source": [
        "import numpy as np\n",
        "\n",
        "stop_words = nltk.corpus.stopwords.words('english')\n",
        "\n",
        "def normalize_document(doc):\n",
        "    # lower case and remove special characters\\whitespaces\n",
        "    doc = re.sub(r'[^a-zA-Z\\s]', '', doc, re.I|re.A)\n",
        "    doc = doc.lower()\n",
        "    doc = doc.strip()\n",
        "    # tokenize document\n",
        "    tokens = nltk.word_tokenize(doc)\n",
        "    # filter stopwords out of document\n",
        "    filtered_tokens = [token for token in tokens if token not in stop_words]\n",
        "    # re-create document from filtered tokens\n",
        "    doc = ' '.join(filtered_tokens)\n",
        "    return doc\n",
        "\n",
        "normalize_corpus = np.vectorize(normalize_document)\n",
        "\n",
        "norm_sentences = normalize_corpus(sentences)\n",
        "norm_sentences[:3]"
      ],
      "execution_count": 8,
      "outputs": [
        {
          "output_type": "execute_result",
          "data": {
            "text/plain": [
              "array(['elder scrolls v skyrim action roleplaying video game developed bethesda game studios published bethesda softworks',\n",
              "       'fifth main installment elder scrolls series following elder scrolls iv oblivion',\n",
              "       'games main story revolves around player characters quest defeat alduin worldeater dragon prophesied destroy world'],\n",
              "      dtype='<U183')"
            ]
          },
          "metadata": {
            "tags": []
          },
          "execution_count": 8
        }
      ]
    },
    {
      "cell_type": "markdown",
      "metadata": {
        "id": "FQWtADH7KoAD",
        "colab_type": "text"
      },
      "source": [
        "**Text Representation with Feature Engineering**"
      ]
    },
    {
      "cell_type": "code",
      "metadata": {
        "id": "YYtMxz6RIBN2",
        "colab_type": "code",
        "colab": {}
      },
      "source": [
        "from sklearn.feature_extraction.text import TfidfVectorizer\n",
        "import pandas as pd\n",
        "\n",
        "tv = TfidfVectorizer(min_df=0., max_df=1., use_idf=True)\n",
        "dt_matrix = tv.fit_transform(norm_sentences)\n",
        "dt_matrix = dt_matrix.toarray()\n",
        "\n"
      ],
      "execution_count": 9,
      "outputs": []
    },
    {
      "cell_type": "code",
      "metadata": {
        "id": "6oFfDJNRKtyF",
        "colab_type": "code",
        "colab": {
          "base_uri": "https://localhost:8080/",
          "height": 238
        },
        "outputId": "f6587a75-5130-464d-bbda-c61c4a3c7489"
      },
      "source": [
        "dt_matrix"
      ],
      "execution_count": 10,
      "outputs": [
        {
          "output_type": "execute_result",
          "data": {
            "text/plain": [
              "array([[0.        , 0.        , 0.        , ..., 0.        , 0.        ,\n",
              "        0.        ],\n",
              "       [0.        , 0.        , 0.        , ..., 0.        , 0.        ,\n",
              "        0.        ],\n",
              "       [0.        , 0.        , 0.        , ..., 0.18074668, 0.30828241,\n",
              "        0.        ],\n",
              "       ...,\n",
              "       [0.        , 0.        , 0.        , ..., 0.        , 0.        ,\n",
              "        0.        ],\n",
              "       [0.        , 0.        , 0.        , ..., 0.        , 0.        ,\n",
              "        0.        ],\n",
              "       [0.        , 0.        , 0.        , ..., 0.19328565, 0.        ,\n",
              "        0.        ]])"
            ]
          },
          "metadata": {
            "tags": []
          },
          "execution_count": 10
        }
      ]
    },
    {
      "cell_type": "code",
      "metadata": {
        "id": "briXdiu-Kv4q",
        "colab_type": "code",
        "colab": {
          "base_uri": "https://localhost:8080/",
          "height": 396
        },
        "outputId": "228d3a4c-8741-45cc-8309-a41f67b7081d"
      },
      "source": [
        "vocab = tv.get_feature_names()\n",
        "td_matrix = dt_matrix.T\n",
        "print(td_matrix.shape)\n",
        "pd.DataFrame(np.round(td_matrix, 2), index=vocab).head(10)"
      ],
      "execution_count": 11,
      "outputs": [
        {
          "output_type": "stream",
          "text": [
            "(270, 35)\n"
          ],
          "name": "stdout"
        },
        {
          "output_type": "execute_result",
          "data": {
            "text/html": [
              "<div>\n",
              "<style scoped>\n",
              "    .dataframe tbody tr th:only-of-type {\n",
              "        vertical-align: middle;\n",
              "    }\n",
              "\n",
              "    .dataframe tbody tr th {\n",
              "        vertical-align: top;\n",
              "    }\n",
              "\n",
              "    .dataframe thead th {\n",
              "        text-align: right;\n",
              "    }\n",
              "</style>\n",
              "<table border=\"1\" class=\"dataframe\">\n",
              "  <thead>\n",
              "    <tr style=\"text-align: right;\">\n",
              "      <th></th>\n",
              "      <th>0</th>\n",
              "      <th>1</th>\n",
              "      <th>2</th>\n",
              "      <th>3</th>\n",
              "      <th>4</th>\n",
              "      <th>5</th>\n",
              "      <th>6</th>\n",
              "      <th>7</th>\n",
              "      <th>8</th>\n",
              "      <th>9</th>\n",
              "      <th>10</th>\n",
              "      <th>11</th>\n",
              "      <th>12</th>\n",
              "      <th>13</th>\n",
              "      <th>14</th>\n",
              "      <th>15</th>\n",
              "      <th>16</th>\n",
              "      <th>17</th>\n",
              "      <th>18</th>\n",
              "      <th>19</th>\n",
              "      <th>20</th>\n",
              "      <th>21</th>\n",
              "      <th>22</th>\n",
              "      <th>23</th>\n",
              "      <th>24</th>\n",
              "      <th>25</th>\n",
              "      <th>26</th>\n",
              "      <th>27</th>\n",
              "      <th>28</th>\n",
              "      <th>29</th>\n",
              "      <th>30</th>\n",
              "      <th>31</th>\n",
              "      <th>32</th>\n",
              "      <th>33</th>\n",
              "      <th>34</th>\n",
              "    </tr>\n",
              "  </thead>\n",
              "  <tbody>\n",
              "    <tr>\n",
              "      <th>ability</th>\n",
              "      <td>0.00</td>\n",
              "      <td>0.0</td>\n",
              "      <td>0.00</td>\n",
              "      <td>0.0</td>\n",
              "      <td>0.0</td>\n",
              "      <td>0.00</td>\n",
              "      <td>0.0</td>\n",
              "      <td>0.00</td>\n",
              "      <td>0.00</td>\n",
              "      <td>0.0</td>\n",
              "      <td>0.00</td>\n",
              "      <td>0.0</td>\n",
              "      <td>0.0</td>\n",
              "      <td>0.0</td>\n",
              "      <td>0.0</td>\n",
              "      <td>0.0</td>\n",
              "      <td>0.0</td>\n",
              "      <td>0.0</td>\n",
              "      <td>0.0</td>\n",
              "      <td>0.34</td>\n",
              "      <td>0.0</td>\n",
              "      <td>0.0</td>\n",
              "      <td>0.0</td>\n",
              "      <td>0.0</td>\n",
              "      <td>0.0</td>\n",
              "      <td>0.0</td>\n",
              "      <td>0.0</td>\n",
              "      <td>0.0</td>\n",
              "      <td>0.00</td>\n",
              "      <td>0.0</td>\n",
              "      <td>0.00</td>\n",
              "      <td>0.0</td>\n",
              "      <td>0.0</td>\n",
              "      <td>0.00</td>\n",
              "      <td>0.00</td>\n",
              "    </tr>\n",
              "    <tr>\n",
              "      <th>absorb</th>\n",
              "      <td>0.00</td>\n",
              "      <td>0.0</td>\n",
              "      <td>0.00</td>\n",
              "      <td>0.0</td>\n",
              "      <td>0.0</td>\n",
              "      <td>0.00</td>\n",
              "      <td>0.0</td>\n",
              "      <td>0.00</td>\n",
              "      <td>0.00</td>\n",
              "      <td>0.0</td>\n",
              "      <td>0.00</td>\n",
              "      <td>0.0</td>\n",
              "      <td>0.0</td>\n",
              "      <td>0.0</td>\n",
              "      <td>0.0</td>\n",
              "      <td>0.0</td>\n",
              "      <td>0.0</td>\n",
              "      <td>0.0</td>\n",
              "      <td>0.0</td>\n",
              "      <td>0.00</td>\n",
              "      <td>0.0</td>\n",
              "      <td>0.0</td>\n",
              "      <td>0.0</td>\n",
              "      <td>0.0</td>\n",
              "      <td>0.0</td>\n",
              "      <td>0.0</td>\n",
              "      <td>0.0</td>\n",
              "      <td>0.0</td>\n",
              "      <td>0.31</td>\n",
              "      <td>0.0</td>\n",
              "      <td>0.00</td>\n",
              "      <td>0.0</td>\n",
              "      <td>0.0</td>\n",
              "      <td>0.00</td>\n",
              "      <td>0.00</td>\n",
              "    </tr>\n",
              "    <tr>\n",
              "      <th>acclaim</th>\n",
              "      <td>0.00</td>\n",
              "      <td>0.0</td>\n",
              "      <td>0.00</td>\n",
              "      <td>0.0</td>\n",
              "      <td>0.0</td>\n",
              "      <td>0.00</td>\n",
              "      <td>0.0</td>\n",
              "      <td>0.28</td>\n",
              "      <td>0.00</td>\n",
              "      <td>0.0</td>\n",
              "      <td>0.00</td>\n",
              "      <td>0.0</td>\n",
              "      <td>0.0</td>\n",
              "      <td>0.0</td>\n",
              "      <td>0.0</td>\n",
              "      <td>0.0</td>\n",
              "      <td>0.0</td>\n",
              "      <td>0.0</td>\n",
              "      <td>0.0</td>\n",
              "      <td>0.00</td>\n",
              "      <td>0.0</td>\n",
              "      <td>0.0</td>\n",
              "      <td>0.0</td>\n",
              "      <td>0.0</td>\n",
              "      <td>0.0</td>\n",
              "      <td>0.0</td>\n",
              "      <td>0.0</td>\n",
              "      <td>0.0</td>\n",
              "      <td>0.00</td>\n",
              "      <td>0.0</td>\n",
              "      <td>0.00</td>\n",
              "      <td>0.0</td>\n",
              "      <td>0.0</td>\n",
              "      <td>0.00</td>\n",
              "      <td>0.00</td>\n",
              "    </tr>\n",
              "    <tr>\n",
              "      <th>action</th>\n",
              "      <td>0.25</td>\n",
              "      <td>0.0</td>\n",
              "      <td>0.00</td>\n",
              "      <td>0.0</td>\n",
              "      <td>0.0</td>\n",
              "      <td>0.00</td>\n",
              "      <td>0.0</td>\n",
              "      <td>0.00</td>\n",
              "      <td>0.32</td>\n",
              "      <td>0.0</td>\n",
              "      <td>0.00</td>\n",
              "      <td>0.0</td>\n",
              "      <td>0.0</td>\n",
              "      <td>0.0</td>\n",
              "      <td>0.0</td>\n",
              "      <td>0.0</td>\n",
              "      <td>0.0</td>\n",
              "      <td>0.0</td>\n",
              "      <td>0.0</td>\n",
              "      <td>0.00</td>\n",
              "      <td>0.0</td>\n",
              "      <td>0.0</td>\n",
              "      <td>0.0</td>\n",
              "      <td>0.0</td>\n",
              "      <td>0.0</td>\n",
              "      <td>0.0</td>\n",
              "      <td>0.0</td>\n",
              "      <td>0.0</td>\n",
              "      <td>0.00</td>\n",
              "      <td>0.0</td>\n",
              "      <td>0.00</td>\n",
              "      <td>0.0</td>\n",
              "      <td>0.0</td>\n",
              "      <td>0.00</td>\n",
              "      <td>0.00</td>\n",
              "    </tr>\n",
              "    <tr>\n",
              "      <th>advancement</th>\n",
              "      <td>0.00</td>\n",
              "      <td>0.0</td>\n",
              "      <td>0.00</td>\n",
              "      <td>0.0</td>\n",
              "      <td>0.0</td>\n",
              "      <td>0.00</td>\n",
              "      <td>0.0</td>\n",
              "      <td>0.28</td>\n",
              "      <td>0.00</td>\n",
              "      <td>0.0</td>\n",
              "      <td>0.00</td>\n",
              "      <td>0.0</td>\n",
              "      <td>0.0</td>\n",
              "      <td>0.0</td>\n",
              "      <td>0.0</td>\n",
              "      <td>0.0</td>\n",
              "      <td>0.0</td>\n",
              "      <td>0.0</td>\n",
              "      <td>0.0</td>\n",
              "      <td>0.00</td>\n",
              "      <td>0.0</td>\n",
              "      <td>0.0</td>\n",
              "      <td>0.0</td>\n",
              "      <td>0.0</td>\n",
              "      <td>0.0</td>\n",
              "      <td>0.0</td>\n",
              "      <td>0.0</td>\n",
              "      <td>0.0</td>\n",
              "      <td>0.00</td>\n",
              "      <td>0.0</td>\n",
              "      <td>0.00</td>\n",
              "      <td>0.0</td>\n",
              "      <td>0.0</td>\n",
              "      <td>0.00</td>\n",
              "      <td>0.00</td>\n",
              "    </tr>\n",
              "    <tr>\n",
              "      <th>akatosh</th>\n",
              "      <td>0.00</td>\n",
              "      <td>0.0</td>\n",
              "      <td>0.00</td>\n",
              "      <td>0.0</td>\n",
              "      <td>0.0</td>\n",
              "      <td>0.00</td>\n",
              "      <td>0.0</td>\n",
              "      <td>0.00</td>\n",
              "      <td>0.00</td>\n",
              "      <td>0.0</td>\n",
              "      <td>0.00</td>\n",
              "      <td>0.0</td>\n",
              "      <td>0.0</td>\n",
              "      <td>0.0</td>\n",
              "      <td>0.0</td>\n",
              "      <td>0.0</td>\n",
              "      <td>0.0</td>\n",
              "      <td>0.0</td>\n",
              "      <td>0.0</td>\n",
              "      <td>0.00</td>\n",
              "      <td>0.0</td>\n",
              "      <td>0.0</td>\n",
              "      <td>0.0</td>\n",
              "      <td>0.0</td>\n",
              "      <td>0.0</td>\n",
              "      <td>0.0</td>\n",
              "      <td>0.0</td>\n",
              "      <td>0.0</td>\n",
              "      <td>0.00</td>\n",
              "      <td>0.0</td>\n",
              "      <td>0.00</td>\n",
              "      <td>0.0</td>\n",
              "      <td>0.0</td>\n",
              "      <td>0.00</td>\n",
              "      <td>0.33</td>\n",
              "    </tr>\n",
              "    <tr>\n",
              "      <th>alduin</th>\n",
              "      <td>0.00</td>\n",
              "      <td>0.0</td>\n",
              "      <td>0.25</td>\n",
              "      <td>0.0</td>\n",
              "      <td>0.0</td>\n",
              "      <td>0.00</td>\n",
              "      <td>0.0</td>\n",
              "      <td>0.00</td>\n",
              "      <td>0.00</td>\n",
              "      <td>0.0</td>\n",
              "      <td>0.00</td>\n",
              "      <td>0.0</td>\n",
              "      <td>0.0</td>\n",
              "      <td>0.0</td>\n",
              "      <td>0.0</td>\n",
              "      <td>0.0</td>\n",
              "      <td>0.0</td>\n",
              "      <td>0.0</td>\n",
              "      <td>0.0</td>\n",
              "      <td>0.00</td>\n",
              "      <td>0.0</td>\n",
              "      <td>0.0</td>\n",
              "      <td>0.0</td>\n",
              "      <td>0.0</td>\n",
              "      <td>0.0</td>\n",
              "      <td>0.0</td>\n",
              "      <td>0.0</td>\n",
              "      <td>0.0</td>\n",
              "      <td>0.00</td>\n",
              "      <td>0.0</td>\n",
              "      <td>0.00</td>\n",
              "      <td>0.0</td>\n",
              "      <td>0.0</td>\n",
              "      <td>0.26</td>\n",
              "      <td>0.27</td>\n",
              "    </tr>\n",
              "    <tr>\n",
              "      <th>allowing</th>\n",
              "      <td>0.00</td>\n",
              "      <td>0.0</td>\n",
              "      <td>0.00</td>\n",
              "      <td>0.0</td>\n",
              "      <td>0.0</td>\n",
              "      <td>0.27</td>\n",
              "      <td>0.0</td>\n",
              "      <td>0.00</td>\n",
              "      <td>0.00</td>\n",
              "      <td>0.0</td>\n",
              "      <td>0.00</td>\n",
              "      <td>0.0</td>\n",
              "      <td>0.0</td>\n",
              "      <td>0.0</td>\n",
              "      <td>0.0</td>\n",
              "      <td>0.0</td>\n",
              "      <td>0.0</td>\n",
              "      <td>0.0</td>\n",
              "      <td>0.0</td>\n",
              "      <td>0.00</td>\n",
              "      <td>0.0</td>\n",
              "      <td>0.0</td>\n",
              "      <td>0.0</td>\n",
              "      <td>0.0</td>\n",
              "      <td>0.0</td>\n",
              "      <td>0.0</td>\n",
              "      <td>0.0</td>\n",
              "      <td>0.0</td>\n",
              "      <td>0.00</td>\n",
              "      <td>0.0</td>\n",
              "      <td>0.00</td>\n",
              "      <td>0.0</td>\n",
              "      <td>0.0</td>\n",
              "      <td>0.00</td>\n",
              "      <td>0.00</td>\n",
              "    </tr>\n",
              "    <tr>\n",
              "      <th>allows</th>\n",
              "      <td>0.00</td>\n",
              "      <td>0.0</td>\n",
              "      <td>0.00</td>\n",
              "      <td>0.0</td>\n",
              "      <td>0.0</td>\n",
              "      <td>0.00</td>\n",
              "      <td>0.0</td>\n",
              "      <td>0.00</td>\n",
              "      <td>0.00</td>\n",
              "      <td>0.0</td>\n",
              "      <td>0.27</td>\n",
              "      <td>0.0</td>\n",
              "      <td>0.0</td>\n",
              "      <td>0.0</td>\n",
              "      <td>0.0</td>\n",
              "      <td>0.0</td>\n",
              "      <td>0.0</td>\n",
              "      <td>0.0</td>\n",
              "      <td>0.0</td>\n",
              "      <td>0.00</td>\n",
              "      <td>0.0</td>\n",
              "      <td>0.0</td>\n",
              "      <td>0.0</td>\n",
              "      <td>0.0</td>\n",
              "      <td>0.0</td>\n",
              "      <td>0.0</td>\n",
              "      <td>0.0</td>\n",
              "      <td>0.0</td>\n",
              "      <td>0.00</td>\n",
              "      <td>0.0</td>\n",
              "      <td>0.00</td>\n",
              "      <td>0.0</td>\n",
              "      <td>0.0</td>\n",
              "      <td>0.00</td>\n",
              "      <td>0.00</td>\n",
              "    </tr>\n",
              "    <tr>\n",
              "      <th>although</th>\n",
              "      <td>0.00</td>\n",
              "      <td>0.0</td>\n",
              "      <td>0.00</td>\n",
              "      <td>0.0</td>\n",
              "      <td>0.0</td>\n",
              "      <td>0.00</td>\n",
              "      <td>0.0</td>\n",
              "      <td>0.00</td>\n",
              "      <td>0.00</td>\n",
              "      <td>0.0</td>\n",
              "      <td>0.00</td>\n",
              "      <td>0.0</td>\n",
              "      <td>0.0</td>\n",
              "      <td>0.0</td>\n",
              "      <td>0.0</td>\n",
              "      <td>0.0</td>\n",
              "      <td>0.0</td>\n",
              "      <td>0.0</td>\n",
              "      <td>0.0</td>\n",
              "      <td>0.00</td>\n",
              "      <td>0.0</td>\n",
              "      <td>0.0</td>\n",
              "      <td>0.0</td>\n",
              "      <td>0.0</td>\n",
              "      <td>0.0</td>\n",
              "      <td>0.0</td>\n",
              "      <td>0.0</td>\n",
              "      <td>0.0</td>\n",
              "      <td>0.00</td>\n",
              "      <td>0.0</td>\n",
              "      <td>0.33</td>\n",
              "      <td>0.0</td>\n",
              "      <td>0.0</td>\n",
              "      <td>0.00</td>\n",
              "      <td>0.00</td>\n",
              "    </tr>\n",
              "  </tbody>\n",
              "</table>\n",
              "</div>"
            ],
            "text/plain": [
              "               0    1     2    3    4     5   ...   29    30   31   32    33    34\n",
              "ability      0.00  0.0  0.00  0.0  0.0  0.00  ...  0.0  0.00  0.0  0.0  0.00  0.00\n",
              "absorb       0.00  0.0  0.00  0.0  0.0  0.00  ...  0.0  0.00  0.0  0.0  0.00  0.00\n",
              "acclaim      0.00  0.0  0.00  0.0  0.0  0.00  ...  0.0  0.00  0.0  0.0  0.00  0.00\n",
              "action       0.25  0.0  0.00  0.0  0.0  0.00  ...  0.0  0.00  0.0  0.0  0.00  0.00\n",
              "advancement  0.00  0.0  0.00  0.0  0.0  0.00  ...  0.0  0.00  0.0  0.0  0.00  0.00\n",
              "akatosh      0.00  0.0  0.00  0.0  0.0  0.00  ...  0.0  0.00  0.0  0.0  0.00  0.33\n",
              "alduin       0.00  0.0  0.25  0.0  0.0  0.00  ...  0.0  0.00  0.0  0.0  0.26  0.27\n",
              "allowing     0.00  0.0  0.00  0.0  0.0  0.27  ...  0.0  0.00  0.0  0.0  0.00  0.00\n",
              "allows       0.00  0.0  0.00  0.0  0.0  0.00  ...  0.0  0.00  0.0  0.0  0.00  0.00\n",
              "although     0.00  0.0  0.00  0.0  0.0  0.00  ...  0.0  0.33  0.0  0.0  0.00  0.00\n",
              "\n",
              "[10 rows x 35 columns]"
            ]
          },
          "metadata": {
            "tags": []
          },
          "execution_count": 11
        }
      ]
    },
    {
      "cell_type": "markdown",
      "metadata": {
        "id": "8d7i9AsBK972",
        "colab_type": "text"
      },
      "source": [
        "**Build Similarity Matrix**"
      ]
    },
    {
      "cell_type": "code",
      "metadata": {
        "id": "TrjLKu03K0U1",
        "colab_type": "code",
        "colab": {
          "base_uri": "https://localhost:8080/",
          "height": 153
        },
        "outputId": "f2920a45-be65-4679-d914-632f7fe7a2fa"
      },
      "source": [
        "similarity_matrix = np.matmul(dt_matrix, dt_matrix.T)\n",
        "print(similarity_matrix.shape)\n",
        "np.round(similarity_matrix, 3)\n"
      ],
      "execution_count": 12,
      "outputs": [
        {
          "output_type": "stream",
          "text": [
            "(35, 35)\n"
          ],
          "name": "stdout"
        },
        {
          "output_type": "execute_result",
          "data": {
            "text/plain": [
              "array([[1.   , 0.182, 0.   , ..., 0.   , 0.   , 0.   ],\n",
              "       [0.182, 1.   , 0.05 , ..., 0.   , 0.   , 0.084],\n",
              "       [0.   , 0.05 , 1.   , ..., 0.101, 0.165, 0.319],\n",
              "       ...,\n",
              "       [0.   , 0.   , 0.101, ..., 1.   , 0.066, 0.069],\n",
              "       [0.   , 0.   , 0.165, ..., 0.066, 1.   , 0.123],\n",
              "       [0.   , 0.084, 0.319, ..., 0.069, 0.123, 1.   ]])"
            ]
          },
          "metadata": {
            "tags": []
          },
          "execution_count": 12
        }
      ]
    },
    {
      "cell_type": "markdown",
      "metadata": {
        "id": "P6Bt_XMCLJOa",
        "colab_type": "text"
      },
      "source": [
        "**Build Similarity Graph**"
      ]
    },
    {
      "cell_type": "code",
      "metadata": {
        "id": "9tElmoRNLEr8",
        "colab_type": "code",
        "colab": {}
      },
      "source": [
        "import networkx\n",
        "similarity_graph=networkx.from_numpy_array(similarity_matrix)"
      ],
      "execution_count": 13,
      "outputs": []
    },
    {
      "cell_type": "code",
      "metadata": {
        "id": "70rbGFzXLcKJ",
        "colab_type": "code",
        "colab": {
          "base_uri": "https://localhost:8080/",
          "height": 357
        },
        "outputId": "9b2cbd5f-308f-4932-bce3-d0240318d1aa"
      },
      "source": [
        "import matplotlib.pyplot as plt\n",
        "%matplotlib inline\n",
        "\n",
        "plt.figure(figsize=(12, 6))\n",
        "networkx.draw_networkx(similarity_graph, node_color='yellow')"
      ],
      "execution_count": 14,
      "outputs": [
        {
          "output_type": "display_data",
          "data": {
            "image/png": "[encoded data removed]",
            "text/plain": [
              "<Figure size 864x432 with 1 Axes>"
            ]
          },
          "metadata": {
            "tags": []
          }
        }
      ]
    },
    {
      "cell_type": "markdown",
      "metadata": {
        "id": "RgutkhOwLptR",
        "colab_type": "text"
      },
      "source": [
        "**Get each Sentence Importance Scores**"
      ]
    },
    {
      "cell_type": "code",
      "metadata": {
        "id": "ognL9CVFLjSI",
        "colab_type": "code",
        "colab": {}
      },
      "source": [
        "scores=networkx.pagerank(similarity_graph)\n"
      ],
      "execution_count": 15,
      "outputs": []
    },
    {
      "cell_type": "code",
      "metadata": {
        "id": "FhzECP8RL4xq",
        "colab_type": "code",
        "colab": {
          "base_uri": "https://localhost:8080/",
          "height": 612
        },
        "outputId": "eedead59-edb1-41b2-818b-398197af9a8c"
      },
      "source": [
        "scores"
      ],
      "execution_count": 16,
      "outputs": [
        {
          "output_type": "execute_result",
          "data": {
            "text/plain": [
              "{0: 0.0311166077389341,\n",
              " 1: 0.030121236357169002,\n",
              " 2: 0.03729704979721474,\n",
              " 3: 0.03150616293402058,\n",
              " 4: 0.03460086870923608,\n",
              " 5: 0.0313761435773838,\n",
              " 6: 0.024304374662697043,\n",
              " 7: 0.02794400256215579,\n",
              " 8: 0.032407445306569256,\n",
              " 9: 0.030421931638848643,\n",
              " 10: 0.027084577506432214,\n",
              " 11: 0.03183673426880144,\n",
              " 12: 0.022955979041225063,\n",
              " 13: 0.02810184482274048,\n",
              " 14: 0.025356779969533498,\n",
              " 15: 0.023053927456615768,\n",
              " 16: 0.03112348153189422,\n",
              " 17: 0.027867824551117196,\n",
              " 18: 0.027685568989982708,\n",
              " 19: 0.03069597935043714,\n",
              " 20: 0.02262651877410073,\n",
              " 21: 0.027182887293934154,\n",
              " 22: 0.023652527429024267,\n",
              " 23: 0.02619713253242015,\n",
              " 24: 0.027174814350640366,\n",
              " 25: 0.03490843547537587,\n",
              " 26: 0.03156665869307622,\n",
              " 27: 0.024805595280855408,\n",
              " 28: 0.03218748996523769,\n",
              " 29: 0.024870854863804914,\n",
              " 30: 0.030338771347795945,\n",
              " 31: 0.025677579915894432,\n",
              " 32: 0.028604698000459384,\n",
              " 33: 0.024556714861200445,\n",
              " 34: 0.02879080044317125}"
            ]
          },
          "metadata": {
            "tags": []
          },
          "execution_count": 16
        }
      ]
    },
    {
      "cell_type": "code",
      "metadata": {
        "id": "Owcf9MZQL5rs",
        "colab_type": "code",
        "colab": {
          "base_uri": "https://localhost:8080/",
          "height": 187
        },
        "outputId": "c7b7a54b-7a26-479b-d8f7-e52c42bb9515"
      },
      "source": [
        "ranked_sentences = sorted(((score, index) for index, score \n",
        "                                            in scores.items()), \n",
        "                          reverse=True)\n",
        "ranked_sentences[:10]"
      ],
      "execution_count": 17,
      "outputs": [
        {
          "output_type": "execute_result",
          "data": {
            "text/plain": [
              "[(0.03729704979721474, 2),\n",
              " (0.03490843547537587, 25),\n",
              " (0.03460086870923608, 4),\n",
              " (0.032407445306569256, 8),\n",
              " (0.03218748996523769, 28),\n",
              " (0.03183673426880144, 11),\n",
              " (0.03156665869307622, 26),\n",
              " (0.03150616293402058, 3),\n",
              " (0.0313761435773838, 5),\n",
              " (0.03112348153189422, 16)]"
            ]
          },
          "metadata": {
            "tags": []
          },
          "execution_count": 17
        }
      ]
    },
    {
      "cell_type": "code",
      "metadata": {
        "id": "7z4YlQAeMUg0",
        "colab_type": "code",
        "colab": {}
      },
      "source": [
        "num_sentences = 7\n",
        "top_sentence_indices = [ranked_sentences[index][1] \n",
        "                        for index in range(num_sentences)]\n",
        "top_sentence_indices.sort()\n"
      ],
      "execution_count": 18,
      "outputs": []
    },
    {
      "cell_type": "markdown",
      "metadata": {
        "id": "HNaXBzYDMrjC",
        "colab_type": "text"
      },
      "source": [
        "**Get Sentences from those indices**"
      ]
    },
    {
      "cell_type": "code",
      "metadata": {
        "id": "MDkwV2_0MrOc",
        "colab_type": "code",
        "colab": {
          "base_uri": "https://localhost:8080/",
          "height": 156
        },
        "outputId": "b16aee69-25a3-4600-8399-1d735a1aa2ba"
      },
      "source": [
        "print('\\n'.join(np.array(sentences)[top_sentence_indices]))"
      ],
      "execution_count": 20,
      "outputs": [
        {
          "output_type": "stream",
          "text": [
            "The game's main story revolves around the player character's quest to defeat Alduin the World-Eater, a dragon who is prophesied to destroy the world.\n",
            "Over the course of the game, the player completes quests and develops the character by improving skills.\n",
            "The Elder Scrolls V: Skyrim is an action role-playing game, playable from either a first or third-person perspective.\n",
            "The game's main quest can be completed or ignored at the player's preference after the first stage of the quest is finished.\n",
            "Skyrim is the first entry in The Elder Scrolls to include dragons in the game's wilderness.\n",
            "Like other creatures, dragons are generated randomly in the world and will engage in combat with NPCs, creatures and the player.\n",
            "The player character can absorb the souls of dragons in order to use powerful spells called \"dragon shouts\" or \"Thu'um\".\n"
          ],
          "name": "stdout"
        }
      ]
    },
    {
      "cell_type": "markdown",
      "metadata": {
        "id": "26NZf_mQNYH7",
        "colab_type": "text"
      },
      "source": [
        "**Extraction of Summarization from Transformers Using BERT**\n",
        "\n"
      ]
    },
    {
      "cell_type": "code",
      "metadata": {
        "id": "7MJ0phJkMnDJ",
        "colab_type": "code",
        "colab": {
          "base_uri": "https://localhost:8080/",
          "height": 955
        },
        "outputId": "b475009a-c474-42ec-8437-c9d907b5c787"
      },
      "source": [
        "!pip install bert-extractive-summarizer"
      ],
      "execution_count": 21,
      "outputs": [
        {
          "output_type": "stream",
          "text": [
            "Collecting bert-extractive-summarizer\n",
            "  Downloading https://files.pythonhosted.org/packages/23/1d/71f0a5c7f81b1a87d4428a6a935e9ddeb5e662e41512952e11bd10533cd9/bert-extractive-summarizer-0.4.2.tar.gz\n",
            "Collecting transformers\n",
            "\u001b[?25l  Downloading https://files.pythonhosted.org/packages/27/3c/91ed8f5c4e7ef3227b4119200fc0ed4b4fd965b1f0172021c25701087825/transformers-3.0.2-py3-none-any.whl (769kB)\n",
            "\r\u001b[K     |▍                               | 10kB 16.3MB/s eta 0:00:01\r\u001b[K     |▉                               | 20kB 16.9MB/s eta 0:00:01\r\u001b[K     |█▎                              | 30kB 4.3MB/s eta 0:00:01\r\u001b[K     |█▊                              | 40kB 5.3MB/s eta 0:00:01\r\u001b[K     |██▏                             | 51kB 5.5MB/s eta 0:00:01\r\u001b[K     |██▋                             | 61kB 6.4MB/s eta 0:00:01\r\u001b[K     |███                             | 71kB 6.3MB/s eta 0:00:01\r\u001b[K     |███▍                            | 81kB 5.5MB/s eta 0:00:01\r\u001b[K     |███▉                            | 92kB 6.0MB/s eta 0:00:01\r\u001b[K     |████▎                           | 102kB 6.0MB/s eta 0:00:01\r\u001b[K     |████▊                           | 112kB 6.0MB/s eta 0:00:01\r\u001b[K     |█████▏                          | 122kB 6.0MB/s eta 0:00:01\r\u001b[K     |█████▌                          | 133kB 6.0MB/s eta 0:00:01\r\u001b[K     |██████                          | 143kB 6.0MB/s eta 0:00:01\r\u001b[K     |██████▍                         | 153kB 6.0MB/s eta 0:00:01\r\u001b[K     |██████▉                         | 163kB 6.0MB/s eta 0:00:01\r\u001b[K     |███████▎                        | 174kB 6.0MB/s eta 0:00:01\r\u001b[K     |███████▊                        | 184kB 6.0MB/s eta 0:00:01\r\u001b[K     |████████                        | 194kB 6.0MB/s eta 0:00:01\r\u001b[K     |████████▌                       | 204kB 6.0MB/s eta 0:00:01\r\u001b[K     |█████████                       | 215kB 6.0MB/s eta 0:00:01\r\u001b[K     |█████████▍                      | 225kB 6.0MB/s eta 0:00:01\r\u001b[K     |█████████▉                      | 235kB 6.0MB/s eta 0:00:01\r\u001b[K     |██████████▎                     | 245kB 6.0MB/s eta 0:00:01\r\u001b[K     |██████████▋                     | 256kB 6.0MB/s eta 0:00:01\r\u001b[K     |███████████                     | 266kB 6.0MB/s eta 0:00:01\r\u001b[K     |███████████▌                    | 276kB 6.0MB/s eta 0:00:01\r\u001b[K     |████████████                    | 286kB 6.0MB/s eta 0:00:01\r\u001b[K     |████████████▍                   | 296kB 6.0MB/s eta 0:00:01\r\u001b[K     |████████████▉                   | 307kB 6.0MB/s eta 0:00:01\r\u001b[K     |█████████████▏                  | 317kB 6.0MB/s eta 0:00:01\r\u001b[K     |█████████████▋                  | 327kB 6.0MB/s eta 0:00:01\r\u001b[K     |██████████████                  | 337kB 6.0MB/s eta 0:00:01\r\u001b[K     |██████████████▌                 | 348kB 6.0MB/s eta 0:00:01\r\u001b[K     |███████████████                 | 358kB 6.0MB/s eta 0:00:01\r\u001b[K     |███████████████▍                | 368kB 6.0MB/s eta 0:00:01\r\u001b[K     |███████████████▊                | 378kB 6.0MB/s eta 0:00:01\r\u001b[K     |████████████████▏               | 389kB 6.0MB/s eta 0:00:01\r\u001b[K     |████████████████▋               | 399kB 6.0MB/s eta 0:00:01\r\u001b[K     |█████████████████               | 409kB 6.0MB/s eta 0:00:01\r\u001b[K     |█████████████████▌              | 419kB 6.0MB/s eta 0:00:01\r\u001b[K     |██████████████████              | 430kB 6.0MB/s eta 0:00:01\r\u001b[K     |██████████████████▎             | 440kB 6.0MB/s eta 0:00:01\r\u001b[K     |██████████████████▊             | 450kB 6.0MB/s eta 0:00:01\r\u001b[K     |███████████████████▏            | 460kB 6.0MB/s eta 0:00:01\r\u001b[K     |███████████████████▋            | 471kB 6.0MB/s eta 0:00:01\r\u001b[K     |████████████████████            | 481kB 6.0MB/s eta 0:00:01\r\u001b[K     |████████████████████▌           | 491kB 6.0MB/s eta 0:00:01\r\u001b[K     |████████████████████▉           | 501kB 6.0MB/s eta 0:00:01\r\u001b[K     |█████████████████████▎          | 512kB 6.0MB/s eta 0:00:01\r\u001b[K     |█████████████████████▊          | 522kB 6.0MB/s eta 0:00:01\r\u001b[K     |██████████████████████▏         | 532kB 6.0MB/s eta 0:00:01\r\u001b[K     |██████████████████████▋         | 542kB 6.0MB/s eta 0:00:01\r\u001b[K     |███████████████████████         | 552kB 6.0MB/s eta 0:00:01\r\u001b[K     |███████████████████████▍        | 563kB 6.0MB/s eta 0:00:01\r\u001b[K     |███████████████████████▉        | 573kB 6.0MB/s eta 0:00:01\r\u001b[K     |████████████████████████▎       | 583kB 6.0MB/s eta 0:00:01\r\u001b[K     |████████████████████████▊       | 593kB 6.0MB/s eta 0:00:01\r\u001b[K     |█████████████████████████▏      | 604kB 6.0MB/s eta 0:00:01\r\u001b[K     |█████████████████████████▋      | 614kB 6.0MB/s eta 0:00:01\r\u001b[K     |██████████████████████████      | 624kB 6.0MB/s eta 0:00:01\r\u001b[K     |██████████████████████████▍     | 634kB 6.0MB/s eta 0:00:01\r\u001b[K     |██████████████████████████▉     | 645kB 6.0MB/s eta 0:00:01\r\u001b[K     |███████████████████████████▎    | 655kB 6.0MB/s eta 0:00:01\r\u001b[K     |███████████████████████████▊    | 665kB 6.0MB/s eta 0:00:01\r\u001b[K     |████████████████████████████▏   | 675kB 6.0MB/s eta 0:00:01\r\u001b[K     |████████████████████████████▌   | 686kB 6.0MB/s eta 0:00:01\r\u001b[K     |█████████████████████████████   | 696kB 6.0MB/s eta 0:00:01\r\u001b[K     |█████████████████████████████▍  | 706kB 6.0MB/s eta 0:00:01\r\u001b[K     |█████████████████████████████▉  | 716kB 6.0MB/s eta 0:00:01\r\u001b[K     |██████████████████████████████▎ | 727kB 6.0MB/s eta 0:00:01\r\u001b[K     |██████████████████████████████▊ | 737kB 6.0MB/s eta 0:00:01\r\u001b[K     |███████████████████████████████ | 747kB 6.0MB/s eta 0:00:01\r\u001b[K     |███████████████████████████████▌| 757kB 6.0MB/s eta 0:00:01\r\u001b[K     |████████████████████████████████| 768kB 6.0MB/s eta 0:00:01\r\u001b[K     |████████████████████████████████| 778kB 6.0MB/s \n",
            "\u001b[?25hRequirement already satisfied: scikit-learn in /usr/local/lib/python3.6/dist-packages (from bert-extractive-summarizer) (0.22.2.post1)\n",
            "Requirement already satisfied: spacy in /usr/local/lib/python3.6/dist-packages (from bert-extractive-summarizer) (2.2.4)\n",
            "Collecting sacremoses\n",
            "\u001b[?25l  Downloading https://files.pythonhosted.org/packages/7d/34/09d19aff26edcc8eb2a01bed8e98f13a1537005d31e95233fd48216eed10/sacremoses-0.0.43.tar.gz (883kB)\n",
            "\r\u001b[K     |▍                               | 10kB 20.6MB/s eta 0:00:01\r\u001b[K     |▊                               | 20kB 26.4MB/s eta 0:00:01\r\u001b[K     |█▏                              | 30kB 32.3MB/s eta 0:00:01\r\u001b[K     |█▌                              | 40kB 36.0MB/s eta 0:00:01\r\u001b[K     |█▉                              | 51kB 27.0MB/s eta 0:00:01\r\u001b[K     |██▎                             | 61kB 29.7MB/s eta 0:00:01\r\u001b[K     |██▋                             | 71kB 24.8MB/s eta 0:00:01\r\u001b[K     |███                             | 81kB 26.5MB/s eta 0:00:01\r\u001b[K     |███▍                            | 92kB 28.4MB/s eta 0:00:01\r\u001b[K     |███▊                            | 102kB 27.1MB/s eta 0:00:01\r\u001b[K     |████                            | 112kB 27.1MB/s eta 0:00:01\r\u001b[K     |████▌                           | 122kB 27.1MB/s eta 0:00:01\r\u001b[K     |████▉                           | 133kB 27.1MB/s eta 0:00:01\r\u001b[K     |█████▏                          | 143kB 27.1MB/s eta 0:00:01\r\u001b[K     |█████▋                          | 153kB 27.1MB/s eta 0:00:01\r\u001b[K     |██████                          | 163kB 27.1MB/s eta 0:00:01\r\u001b[K     |██████▎                         | 174kB 27.1MB/s eta 0:00:01\r\u001b[K     |██████▊                         | 184kB 27.1MB/s eta 0:00:01\r\u001b[K     |███████                         | 194kB 27.1MB/s eta 0:00:01\r\u001b[K     |███████▍                        | 204kB 27.1MB/s eta 0:00:01\r\u001b[K     |███████▉                        | 215kB 27.1MB/s eta 0:00:01\r\u001b[K     |████████▏                       | 225kB 27.1MB/s eta 0:00:01\r\u001b[K     |████████▌                       | 235kB 27.1MB/s eta 0:00:01\r\u001b[K     |█████████                       | 245kB 27.1MB/s eta 0:00:01\r\u001b[K     |█████████▎                      | 256kB 27.1MB/s eta 0:00:01\r\u001b[K     |█████████▋                      | 266kB 27.1MB/s eta 0:00:01\r\u001b[K     |██████████                      | 276kB 27.1MB/s eta 0:00:01\r\u001b[K     |██████████▍                     | 286kB 27.1MB/s eta 0:00:01\r\u001b[K     |██████████▊                     | 296kB 27.1MB/s eta 0:00:01\r\u001b[K     |███████████▏                    | 307kB 27.1MB/s eta 0:00:01\r\u001b[K     |███████████▌                    | 317kB 27.1MB/s eta 0:00:01\r\u001b[K     |███████████▉                    | 327kB 27.1MB/s eta 0:00:01\r\u001b[K     |████████████▎                   | 337kB 27.1MB/s eta 0:00:01\r\u001b[K     |████████████▋                   | 348kB 27.1MB/s eta 0:00:01\r\u001b[K     |█████████████                   | 358kB 27.1MB/s eta 0:00:01\r\u001b[K     |█████████████▍                  | 368kB 27.1MB/s eta 0:00:01\r\u001b[K     |█████████████▊                  | 378kB 27.1MB/s eta 0:00:01\r\u001b[K     |██████████████                  | 389kB 27.1MB/s eta 0:00:01\r\u001b[K     |██████████████▌                 | 399kB 27.1MB/s eta 0:00:01\r\u001b[K     |██████████████▉                 | 409kB 27.1MB/s eta 0:00:01\r\u001b[K     |███████████████▏                | 419kB 27.1MB/s eta 0:00:01\r\u001b[K     |███████████████▋                | 430kB 27.1MB/s eta 0:00:01\r\u001b[K     |████████████████                | 440kB 27.1MB/s eta 0:00:01\r\u001b[K     |████████████████▎               | 450kB 27.1MB/s eta 0:00:01\r\u001b[K     |████████████████▊               | 460kB 27.1MB/s eta 0:00:01\r\u001b[K     |█████████████████               | 471kB 27.1MB/s eta 0:00:01\r\u001b[K     |█████████████████▍              | 481kB 27.1MB/s eta 0:00:01\r\u001b[K     |█████████████████▉              | 491kB 27.1MB/s eta 0:00:01\r\u001b[K     |██████████████████▏             | 501kB 27.1MB/s eta 0:00:01\r\u001b[K     |██████████████████▌             | 512kB 27.1MB/s eta 0:00:01\r\u001b[K     |███████████████████             | 522kB 27.1MB/s eta 0:00:01\r\u001b[K     |███████████████████▎            | 532kB 27.1MB/s eta 0:00:01\r\u001b[K     |███████████████████▋            | 542kB 27.1MB/s eta 0:00:01\r\u001b[K     |████████████████████            | 552kB 27.1MB/s eta 0:00:01\r\u001b[K     |████████████████████▍           | 563kB 27.1MB/s eta 0:00:01\r\u001b[K     |████████████████████▊           | 573kB 27.1MB/s eta 0:00:01\r\u001b[K     |█████████████████████▏          | 583kB 27.1MB/s eta 0:00:01\r\u001b[K     |█████████████████████▌          | 593kB 27.1MB/s eta 0:00:01\r\u001b[K     |█████████████████████▉          | 604kB 27.1MB/s eta 0:00:01\r\u001b[K     |██████████████████████▎         | 614kB 27.1MB/s eta 0:00:01\r\u001b[K     |██████████████████████▋         | 624kB 27.1MB/s eta 0:00:01\r\u001b[K     |███████████████████████         | 634kB 27.1MB/s eta 0:00:01\r\u001b[K     |███████████████████████▍        | 645kB 27.1MB/s eta 0:00:01\r\u001b[K     |███████████████████████▊        | 655kB 27.1MB/s eta 0:00:01\r\u001b[K     |████████████████████████        | 665kB 27.1MB/s eta 0:00:01\r\u001b[K     |████████████████████████▌       | 675kB 27.1MB/s eta 0:00:01\r\u001b[K     |████████████████████████▉       | 686kB 27.1MB/s eta 0:00:01\r\u001b[K     |█████████████████████████▏      | 696kB 27.1MB/s eta 0:00:01\r\u001b[K     |█████████████████████████▋      | 706kB 27.1MB/s eta 0:00:01\r\u001b[K     |██████████████████████████      | 716kB 27.1MB/s eta 0:00:01\r\u001b[K     |██████████████████████████▎     | 727kB 27.1MB/s eta 0:00:01\r\u001b[K     |██████████████████████████▊     | 737kB 27.1MB/s eta 0:00:01\r\u001b[K     |███████████████████████████     | 747kB 27.1MB/s eta 0:00:01\r\u001b[K     |███████████████████████████▍    | 757kB 27.1MB/s eta 0:00:01\r\u001b[K     |███████████████████████████▉    | 768kB 27.1MB/s eta 0:00:01\r\u001b[K     |████████████████████████████▏   | 778kB 27.1MB/s eta 0:00:01\r\u001b[K     |████████████████████████████▌   | 788kB 27.1MB/s eta 0:00:01\r\u001b[K     |█████████████████████████████   | 798kB 27.1MB/s eta 0:00:01\r\u001b[K     |█████████████████████████████▎  | 808kB 27.1MB/s eta 0:00:01\r\u001b[K     |█████████████████████████████▋  | 819kB 27.1MB/s eta 0:00:01\r\u001b[K     |██████████████████████████████  | 829kB 27.1MB/s eta 0:00:01\r\u001b[K     |██████████████████████████████▍ | 839kB 27.1MB/s eta 0:00:01\r\u001b[K     |██████████████████████████████▊ | 849kB 27.1MB/s eta 0:00:01\r\u001b[K     |███████████████████████████████▏| 860kB 27.1MB/s eta 0:00:01\r\u001b[K     |███████████████████████████████▌| 870kB 27.1MB/s eta 0:00:01\r\u001b[K     |███████████████████████████████▉| 880kB 27.1MB/s eta 0:00:01\r\u001b[K     |████████████████████████████████| 890kB 27.1MB/s \n",
            "\u001b[?25hRequirement already satisfied: regex!=2019.12.17 in /usr/local/lib/python3.6/dist-packages (from transformers->bert-extractive-summarizer) (2019.12.20)\n",
            "Collecting tokenizers==0.8.1.rc1\n",
            "\u001b[?25l  Downloading https://files.pythonhosted.org/packages/40/d0/30d5f8d221a0ed981a186c8eb986ce1c94e3a6e87f994eae9f4aa5250217/tokenizers-0.8.1rc1-cp36-cp36m-manylinux1_x86_64.whl (3.0MB)\n",
            "\u001b[K     |████████████████████████████████| 3.0MB 34.1MB/s \n",
            "\u001b[?25hCollecting sentencepiece!=0.1.92\n",
            "\u001b[?25l  Downloading https://files.pythonhosted.org/packages/d4/a4/d0a884c4300004a78cca907a6ff9a5e9fe4f090f5d95ab341c53d28cbc58/sentencepiece-0.1.91-cp36-cp36m-manylinux1_x86_64.whl (1.1MB)\n",
            "\u001b[K     |████████████████████████████████| 1.1MB 35.2MB/s \n",
            "\u001b[?25hRequirement already satisfied: filelock in /usr/local/lib/python3.6/dist-packages (from transformers->bert-extractive-summarizer) (3.0.12)\n",
            "Requirement already satisfied: numpy in /usr/local/lib/python3.6/dist-packages (from transformers->bert-extractive-summarizer) (1.18.5)\n",
            "Requirement already satisfied: tqdm>=4.27 in /usr/local/lib/python3.6/dist-packages (from transformers->bert-extractive-summarizer) (4.41.1)\n",
            "Requirement already satisfied: packaging in /usr/local/lib/python3.6/dist-packages (from transformers->bert-extractive-summarizer) (20.4)\n",
            "Requirement already satisfied: requests in /usr/local/lib/python3.6/dist-packages (from transformers->bert-extractive-summarizer) (2.23.0)\n",
            "Requirement already satisfied: dataclasses; python_version < \"3.7\" in /usr/local/lib/python3.6/dist-packages (from transformers->bert-extractive-summarizer) (0.7)\n",
            "Requirement already satisfied: joblib>=0.11 in /usr/local/lib/python3.6/dist-packages (from scikit-learn->bert-extractive-summarizer) (0.16.0)\n",
            "Requirement already satisfied: scipy>=0.17.0 in /usr/local/lib/python3.6/dist-packages (from scikit-learn->bert-extractive-summarizer) (1.4.1)\n",
            "Requirement already satisfied: cymem<2.1.0,>=2.0.2 in /usr/local/lib/python3.6/dist-packages (from spacy->bert-extractive-summarizer) (2.0.3)\n",
            "Requirement already satisfied: thinc==7.4.0 in /usr/local/lib/python3.6/dist-packages (from spacy->bert-extractive-summarizer) (7.4.0)\n",
            "Requirement already satisfied: catalogue<1.1.0,>=0.0.7 in /usr/local/lib/python3.6/dist-packages (from spacy->bert-extractive-summarizer) (1.0.0)\n",
            "Requirement already satisfied: setuptools in /usr/local/lib/python3.6/dist-packages (from spacy->bert-extractive-summarizer) (49.1.0)\n",
            "Requirement already satisfied: srsly<1.1.0,>=1.0.2 in /usr/local/lib/python3.6/dist-packages (from spacy->bert-extractive-summarizer) (1.0.2)\n",
            "Requirement already satisfied: murmurhash<1.1.0,>=0.28.0 in /usr/local/lib/python3.6/dist-packages (from spacy->bert-extractive-summarizer) (1.0.2)\n",
            "Requirement already satisfied: wasabi<1.1.0,>=0.4.0 in /usr/local/lib/python3.6/dist-packages (from spacy->bert-extractive-summarizer) (0.7.0)\n",
            "Requirement already satisfied: plac<1.2.0,>=0.9.6 in /usr/local/lib/python3.6/dist-packages (from spacy->bert-extractive-summarizer) (1.1.3)\n",
            "Requirement already satisfied: blis<0.5.0,>=0.4.0 in /usr/local/lib/python3.6/dist-packages (from spacy->bert-extractive-summarizer) (0.4.1)\n",
            "Requirement already satisfied: preshed<3.1.0,>=3.0.2 in /usr/local/lib/python3.6/dist-packages (from spacy->bert-extractive-summarizer) (3.0.2)\n",
            "Requirement already satisfied: six in /usr/local/lib/python3.6/dist-packages (from sacremoses->transformers->bert-extractive-summarizer) (1.12.0)\n",
            "Requirement already satisfied: click in /usr/local/lib/python3.6/dist-packages (from sacremoses->transformers->bert-extractive-summarizer) (7.1.2)\n",
            "Requirement already satisfied: pyparsing>=2.0.2 in /usr/local/lib/python3.6/dist-packages (from packaging->transformers->bert-extractive-summarizer) (2.4.7)\n",
            "Requirement already satisfied: urllib3!=1.25.0,!=1.25.1,<1.26,>=1.21.1 in /usr/local/lib/python3.6/dist-packages (from requests->transformers->bert-extractive-summarizer) (1.24.3)\n",
            "Requirement already satisfied: idna<3,>=2.5 in /usr/local/lib/python3.6/dist-packages (from requests->transformers->bert-extractive-summarizer) (2.10)\n",
            "Requirement already satisfied: chardet<4,>=3.0.2 in /usr/local/lib/python3.6/dist-packages (from requests->transformers->bert-extractive-summarizer) (3.0.4)\n",
            "Requirement already satisfied: certifi>=2017.4.17 in /usr/local/lib/python3.6/dist-packages (from requests->transformers->bert-extractive-summarizer) (2020.6.20)\n",
            "Requirement already satisfied: importlib-metadata>=0.20; python_version < \"3.8\" in /usr/local/lib/python3.6/dist-packages (from catalogue<1.1.0,>=0.0.7->spacy->bert-extractive-summarizer) (1.7.0)\n",
            "Requirement already satisfied: zipp>=0.5 in /usr/local/lib/python3.6/dist-packages (from importlib-metadata>=0.20; python_version < \"3.8\"->catalogue<1.1.0,>=0.0.7->spacy->bert-extractive-summarizer) (3.1.0)\n",
            "Building wheels for collected packages: bert-extractive-summarizer, sacremoses\n",
            "  Building wheel for bert-extractive-summarizer (setup.py) ... \u001b[?25l\u001b[?25hdone\n",
            "  Created wheel for bert-extractive-summarizer: filename=bert_extractive_summarizer-0.4.2-cp36-none-any.whl size=13711 sha256=a5b942a9b833735e4e03493842008d1930dff9699f3f1d18e620a25bb58bbd37\n",
            "  Stored in directory: /root/.cache/pip/wheels/13/bc/30/654eb9e657177a56cba927c5a20b6cd01fb229b1ed2bf9b371\n",
            "  Building wheel for sacremoses (setup.py) ... \u001b[?25l\u001b[?25hdone\n",
            "  Created wheel for sacremoses: filename=sacremoses-0.0.43-cp36-none-any.whl size=893260 sha256=d97e6a7832286d3a2e41301586492dfdd035666ea1248597f0726674c089b861\n",
            "  Stored in directory: /root/.cache/pip/wheels/29/3c/fd/7ce5c3f0666dab31a50123635e6fb5e19ceb42ce38d4e58f45\n",
            "Successfully built bert-extractive-summarizer sacremoses\n",
            "Installing collected packages: sacremoses, tokenizers, sentencepiece, transformers, bert-extractive-summarizer\n",
            "Successfully installed bert-extractive-summarizer-0.4.2 sacremoses-0.0.43 sentencepiece-0.1.91 tokenizers-0.8.1rc1 transformers-3.0.2\n"
          ],
          "name": "stdout"
        }
      ]
    },
    {
      "cell_type": "code",
      "metadata": {
        "id": "9yAWcvbgOIc8",
        "colab_type": "code",
        "colab": {}
      },
      "source": [
        "from summarizer import Summarizer"
      ],
      "execution_count": 22,
      "outputs": []
    },
    {
      "cell_type": "code",
      "metadata": {
        "id": "ZtmWa7JrOd81",
        "colab_type": "code",
        "colab": {
          "base_uri": "https://localhost:8080/",
          "height": 164,
          "referenced_widgets": [
            "af8585c43dae46a591ca507415e52f33",
            "f3070421515a44f9af4dc9e765c1ecee",
            "b4ea1506eb0b4363a1d73f87ed73b224",
            "daf703605a994432a761aa4def6f0eb9",
            "df45ab6b4185474b984eba462d9c2eb8",
            "bfb371ffa5e6432889259be6bd4b78bc",
            "3622f9ad5e214b139aa55adfb59fbd39",
            "2966c770f9254bd59c7016eadabe1378",
            "1be26f6eb3fe4f6bb5cf90643c95b789",
            "507f72a4627c4709b37be39642d5439f",
            "72c50c11bd424a96a918f75bc6a03233",
            "ee69c6b62dcd43fc8104959d040d921f",
            "76908396d4ad485f801031398129476e",
            "800f1ca5326a4bd2a8659aba5f161177",
            "f2b4f5646ed04b5aa17821a708f88bfc",
            "7f1435eaf2074058ade90f56069a7379",
            "de9f7f8225ea470d8ebc2622aeef09ca",
            "cb3af26d9c1043908e07a99a493abd7b",
            "e87b12e5a05445288e376e22dc9c76b7",
            "64e3e715e10241909a45f2b10d16737d",
            "62f8757d27b14379b2cc3c61f36aeb7d",
            "b96d06d491254c2b8872232099e35275",
            "d1651851fba84113a08e3419840defc5",
            "0ec2d6b349e04dbcbb1b8f3a748d543c"
          ]
        },
        "outputId": "990d63a3-cf5e-4c80-9697-00f7ca8e1eac"
      },
      "source": [
        "sm=Summarizer(model='bert-large-uncased')"
      ],
      "execution_count": 23,
      "outputs": [
        {
          "output_type": "display_data",
          "data": {
            "application/vnd.jupyter.widget-view+json": {
              "model_id": "af8585c43dae46a591ca507415e52f33",
              "version_minor": 0,
              "version_major": 2
            },
            "text/plain": [
              "HBox(children=(FloatProgress(value=0.0, description='Downloading', max=434.0, style=ProgressStyle(description_…"
            ]
          },
          "metadata": {
            "tags": []
          }
        },
        {
          "output_type": "stream",
          "text": [
            "\n"
          ],
          "name": "stdout"
        },
        {
          "output_type": "display_data",
          "data": {
            "application/vnd.jupyter.widget-view+json": {
              "model_id": "1be26f6eb3fe4f6bb5cf90643c95b789",
              "version_minor": 0,
              "version_major": 2
            },
            "text/plain": [
              "HBox(children=(FloatProgress(value=0.0, description='Downloading', max=1344997306.0, style=ProgressStyle(descr…"
            ]
          },
          "metadata": {
            "tags": []
          }
        },
        {
          "output_type": "stream",
          "text": [
            "\n"
          ],
          "name": "stdout"
        },
        {
          "output_type": "display_data",
          "data": {
            "application/vnd.jupyter.widget-view+json": {
              "model_id": "de9f7f8225ea470d8ebc2622aeef09ca",
              "version_minor": 0,
              "version_major": 2
            },
            "text/plain": [
              "HBox(children=(FloatProgress(value=0.0, description='Downloading', max=231508.0, style=ProgressStyle(descripti…"
            ]
          },
          "metadata": {
            "tags": []
          }
        },
        {
          "output_type": "stream",
          "text": [
            "\n"
          ],
          "name": "stdout"
        }
      ]
    },
    {
      "cell_type": "code",
      "metadata": {
        "id": "iTzlRFfMOkKZ",
        "colab_type": "code",
        "colab": {}
      },
      "source": [
        "result=sm(body=DOCUMENT,ratio=0.2)"
      ],
      "execution_count": 24,
      "outputs": []
    },
    {
      "cell_type": "code",
      "metadata": {
        "id": "w2WQquKqPKMA",
        "colab_type": "code",
        "colab": {
          "base_uri": "https://localhost:8080/",
          "height": 171
        },
        "outputId": "da227268-3426-489d-def6-fa4b4d60ad0a"
      },
      "source": [
        "result"
      ],
      "execution_count": 26,
      "outputs": [
        {
          "output_type": "execute_result",
          "data": {
            "application/vnd.google.colaboratory.intrinsic": {
              "type": "string"
            },
            "text/plain": [
              "'The Elder Scrolls V: Skyrim is an action role-playing video game developed by Bethesda Game Studios and published by Bethesda Softworks. Over the course of the game, the player completes quests and develops the character by improving skills. The Elder Scrolls V: Skyrim is an action role-playing game, playable from either a first or third-person perspective. At the beginning of the game, players create their character by selecting their sex and choosing between one of several races including humans, orcs, elves, and anthropomorphic cat or lizard-like creatures and then customizing their character\\'s appearance. When players have trained skills enough to meet the required experience, their character levels up. Stamina determines the player\\'s effectiveness in combat and is depleted by sprinting, performing heavy \"power attacks\" and being struck by frost-based attacks. A regeneration period limits the player\\'s use of shouts in gameplay. Alduin is the first dragon created by Akatosh, one of the series\\' gods, and is prophesied to destroy and consume the world.'"
            ]
          },
          "metadata": {
            "tags": []
          },
          "execution_count": 26
        }
      ]
    },
    {
      "cell_type": "code",
      "metadata": {
        "id": "XFKhUdfAQUwZ",
        "colab_type": "code",
        "colab": {
          "base_uri": "https://localhost:8080/",
          "height": 173
        },
        "outputId": "989d51d2-9b51-4b0e-c753-8f292307cd3b"
      },
      "source": [
        "result = '\\n'.join(nltk.sent_tokenize(result))\n",
        "print(result)"
      ],
      "execution_count": 27,
      "outputs": [
        {
          "output_type": "stream",
          "text": [
            "The Elder Scrolls V: Skyrim is an action role-playing video game developed by Bethesda Game Studios and published by Bethesda Softworks.\n",
            "Over the course of the game, the player completes quests and develops the character by improving skills.\n",
            "The Elder Scrolls V: Skyrim is an action role-playing game, playable from either a first or third-person perspective.\n",
            "At the beginning of the game, players create their character by selecting their sex and choosing between one of several races including humans, orcs, elves, and anthropomorphic cat or lizard-like creatures and then customizing their character's appearance.\n",
            "When players have trained skills enough to meet the required experience, their character levels up.\n",
            "Stamina determines the player's effectiveness in combat and is depleted by sprinting, performing heavy \"power attacks\" and being struck by frost-based attacks.\n",
            "A regeneration period limits the player's use of shouts in gameplay.\n",
            "Alduin is the first dragon created by Akatosh, one of the series' gods, and is prophesied to destroy and consume the world.\n"
          ],
          "name": "stdout"
        }
      ]
    },
    {
      "cell_type": "markdown",
      "metadata": {
        "id": "8bcuQQMtUL_J",
        "colab_type": "text"
      },
      "source": [
        "**Extractive Summarization with DistilBERT**"
      ]
    },
    {
      "cell_type": "code",
      "metadata": {
        "id": "9tJMoPX7UPG4",
        "colab_type": "code",
        "colab": {
          "base_uri": "https://localhost:8080/",
          "height": 164,
          "referenced_widgets": [
            "d12ba57cfa8e468399ede88800693f42",
            "a6bca601a2114bb2ade76b96e8208e75",
            "9e5856b6c3284359aeedba59ce803049",
            "4d756de357694ff68c47153c5a306bf5",
            "5c245bbe6ba64f3e869231acdfbf6219",
            "64dc962e3d404602b5f833b1a7cff231",
            "03b92b3807214194aceca472c6f4d3a6",
            "6dc35b34e9fc4e12916743d788cf7136",
            "a9981fdea65a4d0f924c342613261945",
            "ef592e676c134d1b8dace5625672d1a0",
            "50049bc75d3046be82d11d05c75440dd",
            "270dd916f24d4841a67f5c891618f76f",
            "b84b354ac42b42c99dea478a1dd80e3e",
            "5349e133e8844cb0b2bc1440b44d3858",
            "5a26f2fe25294be7aca83f53a5056c8e",
            "6dc93f85c623475b99b812e453e0a31a",
            "85ce0b28a2934d2f93730a010cb88806",
            "34757e5d3b204ff0883bde4f8e5a89d4",
            "297147e7d1ef4cd1b410aea6b58bb902",
            "b3fc0dd370434ebe8534bebcba47bba9",
            "b720409717f44fc494225d2067070cee",
            "a93ed566343549139bceb0cea783daa2",
            "20fcffab8676459b96c30fd549225f68",
            "21b8c56380874d16b8cd636e301f027b"
          ]
        },
        "outputId": "38e6f49d-2b7a-4f4b-f008-81b3f714a988"
      },
      "source": [
        "sm = Summarizer(model='distilbert-base-uncased')"
      ],
      "execution_count": 28,
      "outputs": [
        {
          "output_type": "display_data",
          "data": {
            "application/vnd.jupyter.widget-view+json": {
              "model_id": "d12ba57cfa8e468399ede88800693f42",
              "version_minor": 0,
              "version_major": 2
            },
            "text/plain": [
              "HBox(children=(FloatProgress(value=0.0, description='Downloading', max=442.0, style=ProgressStyle(description_…"
            ]
          },
          "metadata": {
            "tags": []
          }
        },
        {
          "output_type": "stream",
          "text": [
            "\n"
          ],
          "name": "stdout"
        },
        {
          "output_type": "display_data",
          "data": {
            "application/vnd.jupyter.widget-view+json": {
              "model_id": "a9981fdea65a4d0f924c342613261945",
              "version_minor": 0,
              "version_major": 2
            },
            "text/plain": [
              "HBox(children=(FloatProgress(value=0.0, description='Downloading', max=267967963.0, style=ProgressStyle(descri…"
            ]
          },
          "metadata": {
            "tags": []
          }
        },
        {
          "output_type": "stream",
          "text": [
            "\n"
          ],
          "name": "stdout"
        },
        {
          "output_type": "display_data",
          "data": {
            "application/vnd.jupyter.widget-view+json": {
              "model_id": "85ce0b28a2934d2f93730a010cb88806",
              "version_minor": 0,
              "version_major": 2
            },
            "text/plain": [
              "HBox(children=(FloatProgress(value=0.0, description='Downloading', max=231508.0, style=ProgressStyle(descripti…"
            ]
          },
          "metadata": {
            "tags": []
          }
        },
        {
          "output_type": "stream",
          "text": [
            "\n"
          ],
          "name": "stdout"
        }
      ]
    },
    {
      "cell_type": "code",
      "metadata": {
        "id": "OKIaesf-USv1",
        "colab_type": "code",
        "colab": {}
      },
      "source": [
        "result = sm(body=DOCUMENT, ratio=0.2)"
      ],
      "execution_count": 29,
      "outputs": []
    },
    {
      "cell_type": "code",
      "metadata": {
        "id": "wy-z1VAZUW1f",
        "colab_type": "code",
        "colab": {
          "base_uri": "https://localhost:8080/",
          "height": 171
        },
        "outputId": "f12eeb8b-a8fb-4f5c-a9a6-0f77bdcb488f"
      },
      "source": [
        "result"
      ],
      "execution_count": 30,
      "outputs": [
        {
          "output_type": "execute_result",
          "data": {
            "application/vnd.google.colaboratory.intrinsic": {
              "type": "string"
            },
            "text/plain": [
              "'The Elder Scrolls V: Skyrim is an action role-playing video game developed by Bethesda Game Studios and published by Bethesda Softworks. The Elder Scrolls V: Skyrim is an action role-playing game, playable from either a first or third-person perspective. The game\\'s main quest can be completed or ignored at the player\\'s preference after the first stage of the quest is finished. Non-player characters (NPCs) populate the world and can be interacted with in a number of ways: the player may engage them in conversation, marry an eligible NPC, kill them or engage in a nonlethal \"brawl\". There are eighteen skills divided evenly among the three schools of combat, magic, and stealth. Stamina determines the player\\'s effectiveness in combat and is depleted by sprinting, performing heavy \"power attacks\" and being struck by frost-based attacks. Skyrim is set around 200 years after the events of The Elder Scrolls IV: Oblivion, although it is not a direct sequel. Alduin, a large black dragon who returns to the land after being lost in time, serves as the game\\'s primary antagonist.'"
            ]
          },
          "metadata": {
            "tags": []
          },
          "execution_count": 30
        }
      ]
    },
    {
      "cell_type": "code",
      "metadata": {
        "id": "jTvN2bXlUX5h",
        "colab_type": "code",
        "colab": {
          "base_uri": "https://localhost:8080/",
          "height": 173
        },
        "outputId": "c265920d-d34c-497a-fc8d-0135ba8b0448"
      },
      "source": [
        "result = '\\n'.join(nltk.sent_tokenize(result))\n",
        "print(result)"
      ],
      "execution_count": 32,
      "outputs": [
        {
          "output_type": "stream",
          "text": [
            "The Elder Scrolls V: Skyrim is an action role-playing video game developed by Bethesda Game Studios and published by Bethesda Softworks.\n",
            "The Elder Scrolls V: Skyrim is an action role-playing game, playable from either a first or third-person perspective.\n",
            "The game's main quest can be completed or ignored at the player's preference after the first stage of the quest is finished.\n",
            "Non-player characters (NPCs) populate the world and can be interacted with in a number of ways: the player may engage them in conversation, marry an eligible NPC, kill them or engage in a nonlethal \"brawl\".\n",
            "There are eighteen skills divided evenly among the three schools of combat, magic, and stealth.\n",
            "Stamina determines the player's effectiveness in combat and is depleted by sprinting, performing heavy \"power attacks\" and being struck by frost-based attacks.\n",
            "Skyrim is set around 200 years after the events of The Elder Scrolls IV: Oblivion, although it is not a direct sequel.\n",
            "Alduin, a large black dragon who returns to the land after being lost in time, serves as the game's primary antagonist.\n"
          ],
          "name": "stdout"
        }
      ]
    }
  ]
}